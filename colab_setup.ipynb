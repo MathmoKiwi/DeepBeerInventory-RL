{
  "nbformat": 4,
  "nbformat_minor": 0,
  "metadata": {
    "colab": {
      "name": "colab_setup.ipynb",
      "provenance": [],
      "mount_file_id": "1Ls9rPHOB4zcDTHVseQfKy5uvFrX7Wcba",
      "authorship_tag": "ABX9TyMGlySu2duVi7NSi9qym419"
    },
    "kernelspec": {
      "name": "python3",
      "display_name": "Python 3"
    },
    "language_info": {
      "name": "python"
    }
  },
  "cells": [
    {
      "cell_type": "code",
      "execution_count": 10,
      "metadata": {
        "colab": {
          "base_uri": "https://localhost:8080/"
        },
        "id": "7dcfgHdB2nf6",
        "outputId": "27e0185e-3270-4f2c-f751-cf47393aacc4"
      },
      "outputs": [
        {
          "output_type": "stream",
          "name": "stdout",
          "text": [
            "`%tensorflow_version` only switches the major version: 1.x or 2.x.\n",
            "You set: `1.15.0`. This will be interpreted as: `1.x`.\n",
            "\n",
            "\n",
            "TensorFlow is already loaded. Please restart the runtime to change versions.\n"
          ]
        }
      ],
      "source": [
        "tensorflow_version 1.15.0"
      ]
    },
    {
      "cell_type": "code",
      "source": [
        "from google.colab import drive\n",
        "drive.mount('/content/drive')"
      ],
      "metadata": {
        "id": "TsUHW-kb39zS",
        "colab": {
          "base_uri": "https://localhost:8080/"
        },
        "outputId": "cb545c7a-0d15-4593-9385-18e622b61188"
      },
      "execution_count": 2,
      "outputs": [
        {
          "output_type": "stream",
          "name": "stdout",
          "text": [
            "Drive already mounted at /content/drive; to attempt to forcibly remount, call drive.mount(\"/content/drive\", force_remount=True).\n"
          ]
        }
      ]
    },
    {
      "cell_type": "code",
      "source": [
        "import tensorflow as tf\n",
        "print(\"TensorFlow version:\", tf.__version__)"
      ],
      "metadata": {
        "colab": {
          "base_uri": "https://localhost:8080/"
        },
        "id": "oPcmxvjW2uLt",
        "outputId": "6f8425de-935c-4b79-8057-ebfaf37b3b32"
      },
      "execution_count": 11,
      "outputs": [
        {
          "output_type": "stream",
          "name": "stdout",
          "text": [
            "TensorFlow version: 1.15.2\n"
          ]
        }
      ]
    },
    {
      "cell_type": "code",
      "source": [
        "!python3 \"/content/drive/MyDrive/Colab Notebooks/Bear Game Project/clBeergame.py\""
      ],
      "metadata": {
        "id": "eeWqmhXcnmGC"
      },
      "execution_count": 8,
      "outputs": []
    },
    {
      "cell_type": "code",
      "source": [
        "!python3 \"/content/drive/MyDrive/Colab Notebooks/Bear Game Project/main.py\""
      ],
      "metadata": {
        "colab": {
          "base_uri": "https://localhost:8080/"
        },
        "id": "ZwLZur3Gokcy",
        "outputId": "900b80f6-a7a9-4713-f6dc-95ff4e7de7d6"
      },
      "execution_count": 9,
      "outputs": [
        {
          "output_type": "stream",
          "name": "stdout",
          "text": [
            "WARNING:tensorflow:\n",
            "The TensorFlow contrib module will not be included in TensorFlow 2.0.\n",
            "For more information, please see:\n",
            "  * https://github.com/tensorflow/community/blob/master/rfcs/20180907-contrib-sunset.md\n",
            "  * https://github.com/tensorflow/addons\n",
            "  * https://github.com/tensorflow/io (for I/O related ops)\n",
            "If you depend on functionality not listed there, please file an issue.\n",
            "\n",
            "Traceback (most recent call last):\n",
            "  File \"/content/drive/MyDrive/Colab Notebooks/Bear Game Project/main.py\", line 3, in <module>\n",
            "    from utilities import *\n",
            "  File \"/content/drive/MyDrive/Colab Notebooks/Bear Game Project/utilities.py\", line 14, in <module>\n",
            "    from numpyencoder import NumpyEncoder\n",
            "ModuleNotFoundError: No module named 'numpyencoder'\n"
          ]
        }
      ]
    }
  ]
}