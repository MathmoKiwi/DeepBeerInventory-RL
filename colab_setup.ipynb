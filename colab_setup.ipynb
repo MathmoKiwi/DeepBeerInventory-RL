{
  "nbformat": 4,
  "nbformat_minor": 0,
  "metadata": {
    "colab": {
      "name": "colab_setup.ipynb",
      "provenance": [],
      "mount_file_id": "1Ls9rPHOB4zcDTHVseQfKy5uvFrX7Wcba",
      "authorship_tag": "ABX9TyO+nbdJunjvs5EiD1tRzebe"
    },
    "kernelspec": {
      "name": "python3",
      "display_name": "Python 3"
    },
    "language_info": {
      "name": "python"
    }
  },
  "cells": [
    {
      "cell_type": "code",
      "execution_count": 1,
      "metadata": {
        "colab": {
          "base_uri": "https://localhost:8080/"
        },
        "id": "7dcfgHdB2nf6",
        "outputId": "b295a6f8-9b8f-4915-d6af-58bdffcb11ec"
      },
      "outputs": [
        {
          "output_type": "stream",
          "name": "stdout",
          "text": [
            "`%tensorflow_version` only switches the major version: 1.x or 2.x.\n",
            "You set: `1.15.0`. This will be interpreted as: `1.x`.\n",
            "\n",
            "\n",
            "TensorFlow 1.x selected.\n"
          ]
        }
      ],
      "source": [
        "tensorflow_version 1.15.0"
      ]
    },
    {
      "cell_type": "code",
      "source": [
        "from google.colab import drive\n",
        "drive.mount('/content/drive')"
      ],
      "metadata": {
        "id": "TsUHW-kb39zS",
        "colab": {
          "base_uri": "https://localhost:8080/"
        },
        "outputId": "d2c2163b-6eb4-41aa-b2be-933ae6393776"
      },
      "execution_count": 2,
      "outputs": [
        {
          "output_type": "stream",
          "name": "stdout",
          "text": [
            "Mounted at /content/drive\n"
          ]
        }
      ]
    },
    {
      "cell_type": "code",
      "source": [
        "drive.mount(\"/content/drive\", force_remount=True)"
      ],
      "metadata": {
        "colab": {
          "base_uri": "https://localhost:8080/"
        },
        "id": "LDy4ZtZPr81W",
        "outputId": "282755d5-958b-43a5-ff12-1353d4e5f134"
      },
      "execution_count": null,
      "outputs": [
        {
          "output_type": "stream",
          "name": "stdout",
          "text": [
            "Mounted at /content/drive\n"
          ]
        }
      ]
    },
    {
      "cell_type": "code",
      "source": [
        "import tensorflow as tf\n",
        "print(\"TensorFlow version:\", tf.__version__)"
      ],
      "metadata": {
        "colab": {
          "base_uri": "https://localhost:8080/"
        },
        "id": "oPcmxvjW2uLt",
        "outputId": "090776ca-4ab3-4de8-8a00-00aba91e5dea"
      },
      "execution_count": 3,
      "outputs": [
        {
          "output_type": "stream",
          "name": "stdout",
          "text": [
            "TensorFlow version: 1.15.2\n"
          ]
        }
      ]
    },
    {
      "cell_type": "code",
      "source": [
        "!python3 \"/content/drive/MyDrive/Colab Notebooks/Bear Game Project/clBeergame.py\""
      ],
      "metadata": {
        "id": "eeWqmhXcnmGC"
      },
      "execution_count": null,
      "outputs": []
    },
    {
      "cell_type": "code",
      "source": [
        "!python3 \"/content/drive/MyDrive/Colab Notebooks/Bear Game Project/main.py\""
      ],
      "metadata": {
        "colab": {
          "base_uri": "https://localhost:8080/"
        },
        "id": "ZwLZur3Gokcy",
        "outputId": "2ef0f14b-9acf-4cd5-f7a0-fe1f5e1c420f"
      },
      "execution_count": 12,
      "outputs": [
        {
          "output_type": "stream",
          "name": "stdout",
          "text": [
            "Traceback (most recent call last):\n",
            "  File \"/content/drive/MyDrive/Colab Notebooks/Bear Game Project/main.py\", line 2, in <module>\n",
            "    from clBeergame import *\n",
            "  File \"/content/drive/MyDrive/Colab Notebooks/Bear Game Project/clBeergame.py\", line 7, in <module>\n",
            "    from plotting import plotting, savePlot, plotBaseStock\n",
            "  File \"/content/drive/MyDrive/Colab Notebooks/Bear Game Project/plotting.py\", line 76\n",
            "    plt.show()\n",
            "             ^\n",
            "IndentationError: unindent does not match any outer indentation level\n"
          ]
        }
      ]
    },
    {
      "cell_type": "code",
      "source": [
        "!python3 \"/content/drive/MyDrive/Colab Notebooks/Bear Game Project/main.py\" --demandDistribution=0 --gameConfig=8 --maxEpisodesTrain=500 config.ILInit2=10 --batchSize=128"
      ],
      "metadata": {
        "id": "egWMgVq0YgrF",
        "outputId": "f635cfb6-fc48-495b-c3d3-4df8591bcd43",
        "colab": {
          "base_uri": "https://localhost:8080/"
        }
      },
      "execution_count": 11,
      "outputs": [
        {
          "output_type": "stream",
          "name": "stdout",
          "text": [
            "WARNING:tensorflow:\n",
            "The TensorFlow contrib module will not be included in TensorFlow 2.0.\n",
            "For more information, please see:\n",
            "  * https://github.com/tensorflow/community/blob/master/rfcs/20180907-contrib-sunset.md\n",
            "  * https://github.com/tensorflow/addons\n",
            "  * https://github.com/tensorflow/io (for I/O related ops)\n",
            "If you depend on functionality not listed there, please file an issue.\n",
            "\n",
            "2022-06-06 14:24:08,767:WARNING::From /content/drive/MyDrive/Colab Notebooks/Bear Game Project/utilities.py:49: The name tf.logging.INFO is deprecated. Please use tf.compat.v1.logging.INFO instead.\n",
            "\n",
            "2022-06-06 14:24:08,768:WARNING::From /content/drive/MyDrive/Colab Notebooks/Bear Game Project/utilities.py:97: The name tf.logging.info is deprecated. Please use tf.compat.v1.logging.info instead.\n",
            "\n",
            "2022-06-06 14:24:08,768:INFO::MODEL dir: ./logs/bg_2022-06-06_14-24-08_8_3_3_3_2.0_0.0_0.0_0.0_2.0_2.0_2.0_2.0_20_4_500_0.00025_10_10000_0_2_0_1_22\n",
            "2022-06-06 14:24:08,768:INFO::PARAM path: ./logs/bg_2022-06-06_14-24-08_8_3_3_3_2.0_0.0_0.0_0.0_2.0_2.0_2.0_2.0_20_4_500_0.00025_10_10000_0_2_0_1_22/params.json\n",
            "loaded training set= /content/drive/MyDrive/Colab Notebooks/Bear Game Project/data/demandTr0-3.npy\n",
            "loaded test set= /content/data/demandTs0-3.npy\n",
            "2022-06-06 14:24:09,773:WARNING::From /content/drive/MyDrive/Colab Notebooks/Bear Game Project/SRDQN.py:26: The name tf.set_random_seed is deprecated. Please use tf.compat.v1.set_random_seed instead.\n",
            "\n",
            "2022-06-06 14:24:09,782:WARNING::From /content/drive/MyDrive/Colab Notebooks/Bear Game Project/SRDQN.py:205: The name tf.placeholder is deprecated. Please use tf.compat.v1.placeholder instead.\n",
            "\n",
            "2022-06-06 14:24:09,796:WARNING::From /content/drive/MyDrive/Colab Notebooks/Bear Game Project/SRDQN.py:455: The name tf.summary.scalar is deprecated. Please use tf.compat.v1.summary.scalar instead.\n",
            "\n",
            "2022-06-06 14:24:09,809:WARNING::From /content/drive/MyDrive/Colab Notebooks/Bear Game Project/SRDQN.py:461: The name tf.summary.histogram is deprecated. Please use tf.compat.v1.summary.histogram instead.\n",
            "\n",
            "2022-06-06 14:24:10,139:WARNING::From /content/drive/MyDrive/Colab Notebooks/Bear Game Project/SRDQN.py:290: The name tf.train.exponential_decay is deprecated. Please use tf.compat.v1.train.exponential_decay instead.\n",
            "\n",
            "2022-06-06 14:24:10,143:WARNING::From /content/drive/MyDrive/Colab Notebooks/Bear Game Project/SRDQN.py:291: The name tf.train.AdamOptimizer is deprecated. Please use tf.compat.v1.train.AdamOptimizer instead.\n",
            "\n",
            "2022-06-06 14:24:10,325:WARNING::From /content/drive/MyDrive/Colab Notebooks/Bear Game Project/SRDQN.py:110: The name tf.train.Saver is deprecated. Please use tf.compat.v1.train.Saver instead.\n",
            "\n",
            "2022-06-06 14:24:10,467:WARNING::From /content/drive/MyDrive/Colab Notebooks/Bear Game Project/SRDQN.py:111: The name tf.ConfigProto is deprecated. Please use tf.compat.v1.ConfigProto instead.\n",
            "\n",
            "2022-06-06 14:24:10,467:WARNING::From /content/drive/MyDrive/Colab Notebooks/Bear Game Project/SRDQN.py:119: The name tf.Session is deprecated. Please use tf.compat.v1.Session instead.\n",
            "\n",
            "2022-06-06 14:24:10.492343: I tensorflow/core/platform/profile_utils/cpu_utils.cc:94] CPU Frequency: 2199995000 Hz\n",
            "2022-06-06 14:24:10.493022: I tensorflow/compiler/xla/service/service.cc:168] XLA service 0x2c59b80 initialized for platform Host (this does not guarantee that XLA will be used). Devices:\n",
            "2022-06-06 14:24:10.493077: I tensorflow/compiler/xla/service/service.cc:176]   StreamExecutor device (0): Host, Default Version\n",
            "2022-06-06 14:24:10.531605: I tensorflow/stream_executor/platform/default/dso_loader.cc:44] Successfully opened dynamic library libcuda.so.1\n",
            "2022-06-06 14:24:10.604551: E tensorflow/stream_executor/cuda/cuda_driver.cc:318] failed call to cuInit: CUDA_ERROR_NO_DEVICE: no CUDA-capable device is detected\n",
            "2022-06-06 14:24:10.604621: I tensorflow/stream_executor/cuda/cuda_diagnostics.cc:156] kernel driver does not appear to be running on this host (5ac1e21fc6c8): /proc/driver/nvidia/version does not exist\n",
            "2022-06-06 14:24:10,605:WARNING::From /content/drive/MyDrive/Colab Notebooks/Bear Game Project/SRDQN.py:127: The name tf.summary.FileWriter is deprecated. Please use tf.compat.v1.summary.FileWriter instead.\n",
            "\n",
            "2022-06-06 14:24:10,682:WARNING::From /content/drive/MyDrive/Colab Notebooks/Bear Game Project/SRDQN.py:130: The name tf.global_variables_initializer is deprecated. Please use tf.compat.v1.global_variables_initializer instead.\n",
            "\n",
            "Previous models will not be used\n",
            "output; 2022-06-06 14:24:10; Iter= 0-0; SRDQN= [3.15, -0.00, 4.44, 6.58]; sum = 14.1659; Rand= [3.09, 5.87, 4.11, 10.51]; sum = 23.5828; Strm= [2.08, 3.48, 7.31, 8.80]; sum = 21.6756; BS= [2.23, 2.22, 2.34, 4.96]; sum = 11.7413\n",
            "output; 2022-06-06 14:24:11; Iter= 0-1; SRDQN= [2.48, -0.00, 4.01, 5.18]; sum = 11.6684; Rand= [13.26, 5.63, 3.25, 2.32]; sum = 24.4534; Strm= [1.85, 2.83, 6.78, 7.11]; sum = 18.5620; BS= [2.17, 2.54, 2.25, 4.03]; sum = 10.9888\n",
            "output; 2022-06-06 14:24:11; Iter= 0-2; SRDQN= [3.23, -0.00, 4.41, 5.35]; sum = 12.9890; Rand= [10.86, 5.56, 2.25, 1.93]; sum = 20.5997; Strm= [2.78, 6.36, 16.10, 18.42]; sum = 43.6610; BS= [2.69, 2.35, 3.17, 5.79]; sum = 13.9905\n",
            "output; 2022-06-06 14:24:11; Iter= 0-3; SRDQN= [3.57, -0.00, 4.64, 7.38]; sum = 15.5821; Rand= [4.65, 8.52, 12.51, 1.56]; sum = 27.2385; Strm= [2.94, 7.28, 14.22, 16.25]; sum = 40.6797; BS= [2.92, 2.36, 3.48, 5.49]; sum = 14.2524\n",
            "output; 2022-06-06 14:24:11; Iter= 0-4; SRDQN= [2.85, -0.00, 4.46, 6.83]; sum = 14.1449; Rand= [6.14, 7.09, 5.97, 1.00]; sum = 20.2004; Strm= [2.65, 6.39, 16.10, 19.22]; sum = 44.3522; BS= [2.74, 2.96, 3.29, 5.50]; sum = 14.4769\n",
            "output; 2022-06-06 14:24:11; Iter= 0-5; SRDQN= [2.78, -0.00, 4.89, 8.59]; sum = 16.2531; Rand= [4.14, 12.46, 0.55, 6.03]; sum = 23.1808; Strm= [2.11, 4.76, 10.26, 16.54]; sum = 33.6645; BS= [2.23, 2.15, 3.04, 6.40]; sum = 13.8232\n",
            "output; 2022-06-06 14:24:11; Iter= 0-6; SRDQN= [3.23, -0.00, 4.43, 6.73]; sum = 14.3878; Rand= [8.20, 5.51, 7.30, 2.90]; sum = 23.9171; Strm= [1.68, 3.63, 8.06, 10.84]; sum = 24.2133; BS= [1.80, 1.86, 2.79, 4.79]; sum = 11.2366\n",
            "output; 2022-06-06 14:24:12; Iter= 0-7; SRDQN= [2.83, -0.00, 4.72, 6.24]; sum = 13.7821; Rand= [4.71, 11.42, 3.69, 4.13]; sum = 23.9478; Strm= [2.48, 5.65, 12.75, 17.57]; sum = 38.4584; BS= [2.47, 2.86, 2.92, 5.49]; sum = 13.7355\n",
            "output; 2022-06-06 14:24:12; Iter= 0-8; SRDQN= [2.84, -0.00, 4.90, 6.66]; sum = 14.3993; Rand= [12.77, 6.48, 8.71, 5.69]; sum = 33.6520; Strm= [1.66, 3.14, 6.51, 9.37]; sum = 20.6764; BS= [1.79, 2.39, 2.73, 4.11]; sum = 11.0069\n",
            "output; 2022-06-06 14:24:12; Iter= 0-9; SRDQN= [2.59, -0.00, 4.20, 4.96]; sum = 11.7510; Rand= [9.50, 3.26, 6.98, 0.25]; sum = 19.9871; Strm= [2.21, 4.91, 11.25, 14.77]; sum = 33.1328; BS= [2.29, 2.43, 2.82, 5.46]; sum = 12.9941\n",
            "output; 2022-06-06 14:24:12; Iter= 0-10; SRDQN= [3.23, -0.00, 4.59, 6.51]; sum = 14.3329; Rand= [3.47, 10.86, 5.55, 13.49]; sum = 33.3808; Strm= [2.07, 4.42, 9.16, 11.94]; sum = 27.5867; BS= [2.11, 2.16, 3.03, 5.35]; sum = 12.6461\n",
            "output; 2022-06-06 14:24:12; Iter= 0-11; SRDQN= [2.72, -0.00, 4.05, 7.02]; sum = 13.7849; Rand= [13.43, 15.44, 6.04, 1.36]; sum = 36.2696; Strm= [2.15, 5.05, 12.11, 15.90]; sum = 35.2170; BS= [2.28, 2.31, 3.64, 7.73]; sum = 15.9680\n",
            "output; 2022-06-06 14:24:12; Iter= 0-12; SRDQN= [2.39, -0.00, 4.77, 5.58]; sum = 12.7387; Rand= [12.47, 4.48, 0.00, 13.26]; sum = 30.2153; Strm= [2.09, 4.75, 7.25, 9.34]; sum = 23.4223; BS= [2.18, 2.45, 3.89, 5.89]; sum = 14.4118\n",
            "output; 2022-06-06 14:24:13; Iter= 0-13; SRDQN= [3.07, 0.05, 4.77, 9.00]; sum = 16.8962; Rand= [10.39, 8.22, 1.62, 17.65]; sum = 37.8899; Strm= [1.86, 4.36, 9.21, 13.04]; sum = 28.4714; BS= [1.97, 2.30, 3.28, 5.54]; sum = 13.0957\n",
            "output; 2022-06-06 14:24:13; Iter= 0-14; SRDQN= [2.98, -0.00, 5.92, 10.68]; sum = 19.5836; Rand= [11.49, 7.83, 6.16, 3.44]; sum = 28.9161; Strm= [2.25, 4.02, 6.42, 7.85]; sum = 20.5386; BS= [2.24, 2.28, 2.37, 4.31]; sum = 11.2045\n",
            "output; 2022-06-06 14:24:13; Iter= 0-15; SRDQN= [3.19, -0.00, 4.60, 6.84]; sum = 14.6220; Rand= [8.96, 0.72, 2.20, 10.05]; sum = 21.9256; Strm= [2.10, 4.72, 9.92, 11.44]; sum = 28.1831; BS= [2.32, 1.92, 2.60, 5.48]; sum = 12.3249\n",
            "output; 2022-06-06 14:24:13; Iter= 0-16; SRDQN= [2.33, -0.00, 3.55, 4.86]; sum = 10.7389; Rand= [18.06, 1.27, 4.96, 9.41]; sum = 33.6916; Strm= [2.18, 3.94, 5.60, 7.15]; sum = 18.8764; BS= [2.23, 2.63, 2.89, 4.77]; sum = 12.5127\n",
            "output; 2022-06-06 14:24:13; Iter= 0-17; SRDQN= [3.25, -0.00, 3.86, 6.62]; sum = 13.7381; Rand= [14.18, 8.24, 6.51, 9.35]; sum = 38.2731; Strm= [2.05, 3.85, 9.25, 10.97]; sum = 26.1151; BS= [2.06, 2.40, 2.74, 6.49]; sum = 13.6845\n",
            "output; 2022-06-06 14:24:13; Iter= 0-18; SRDQN= [3.31, -0.00, 4.58, 5.71]; sum = 13.5939; Rand= [3.48, 3.18, 3.98, 6.57]; sum = 17.2149; Strm= [1.71, 3.02, 5.72, 7.80]; sum = 18.2386; BS= [1.85, 1.92, 1.97, 4.80]; sum = 10.5420\n",
            "output; 2022-06-06 14:24:14; Iter= 0-19; SRDQN= [2.93, -0.00, 5.97, 6.82]; sum = 15.7101; Rand= [10.00, 6.00, 7.28, 0.85]; sum = 24.1305; Strm= [2.88, 8.50, 18.91, 24.44]; sum = 54.7339; BS= [2.96, 2.43, 4.58, 8.26]; sum = 18.2317\n",
            "output; 2022-06-06 14:24:14; Iter= 0-20; SRDQN= [2.76, -0.00, 4.75, 6.25]; sum = 13.7588; Rand= [16.37, 7.38, 5.98, 9.26]; sum = 38.9895; Strm= [2.87, 6.94, 16.16, 19.25]; sum = 45.2305; BS= [2.94, 2.78, 3.33, 5.22]; sum = 14.2758\n",
            "output; 2022-06-06 14:24:14; Iter= 0-21; SRDQN= [2.88, 0.01, 4.71, 6.42]; sum = 14.0237; Rand= [12.63, 10.25, 8.32, 6.63]; sum = 37.8341; Strm= [2.55, 5.45, 13.96, 20.46]; sum = 42.4299; BS= [2.65, 2.59, 3.20, 6.07]; sum = 14.5075\n",
            "output; 2022-06-06 14:24:14; Iter= 0-22; SRDQN= [2.25, -0.00, 4.22, 7.07]; sum = 13.5318; Rand= [11.22, 1.47, 0.02, 3.49]; sum = 16.1945; Strm= [2.08, 4.10, 8.98, 12.71]; sum = 27.8775; BS= [2.26, 2.49, 3.26, 5.92]; sum = 13.9162\n",
            "output; 2022-06-06 14:24:14; Iter= 0-23; SRDQN= [2.89, -0.00, 4.11, 5.06]; sum = 12.0572; Rand= [14.59, 7.10, 10.56, 14.14]; sum = 46.3968; Strm= [1.63, 2.41, 4.38, 6.65]; sum = 15.0703; BS= [1.89, 2.11, 2.55, 4.47]; sum = 11.0145\n",
            "output; 2022-06-06 14:24:14; Iter= 0-24; SRDQN= [4.06, 0.21, 5.78, 6.58]; sum = 16.6252; Rand= [4.36, 4.61, 11.10, 6.14]; sum = 26.2198; Strm= [2.69, 5.96, 11.46, 13.50]; sum = 33.6063; BS= [2.60, 2.40, 3.86, 6.47]; sum = 15.3223\n",
            "output; 2022-06-06 14:24:14; Iter= 0-25; SRDQN= [2.59, -0.00, 4.66, 7.98]; sum = 15.2382; Rand= [7.81, 8.93, 3.60, 10.29]; sum = 30.6262; Strm= [2.16, 4.10, 8.97, 13.58]; sum = 28.8057; BS= [2.34, 2.37, 3.25, 5.89]; sum = 13.8484\n",
            "output; 2022-06-06 14:24:15; Iter= 0-26; SRDQN= [3.23, 0.08, 6.16, 7.94]; sum = 17.4060; Rand= [7.64, 4.29, 4.23, 5.95]; sum = 22.1097; Strm= [2.30, 3.98, 10.15, 13.56]; sum = 29.9831; BS= [2.29, 2.33, 3.31, 6.45]; sum = 14.3846\n",
            "output; 2022-06-06 14:24:15; Iter= 0-27; SRDQN= [3.04, -0.00, 5.43, 5.80]; sum = 14.2723; Rand= [8.56, 3.97, 9.08, 3.30]; sum = 24.9112; Strm= [3.05, 8.10, 23.32, 21.50]; sum = 55.9791; BS= [3.10, 2.77, 4.44, 5.36]; sum = 15.6599\n",
            "output; 2022-06-06 14:24:15; Iter= 0-28; SRDQN= [4.35, -0.00, 5.48, 10.00]; sum = 19.8224; Rand= [5.17, 16.86, 8.06, 4.38]; sum = 34.4786; Strm= [2.44, 5.34, 9.19, 12.17]; sum = 29.1471; BS= [2.06, 1.81, 2.69, 5.66]; sum = 12.2276\n",
            "output; 2022-06-06 14:24:15; Iter= 0-29; SRDQN= [3.43, -0.00, 5.02, 6.54]; sum = 14.9843; Rand= [11.32, 5.56, 8.30, 7.73]; sum = 32.9026; Strm= [2.89, 5.96, 11.59, 14.81]; sum = 35.2509; BS= [2.81, 2.33, 3.47, 7.19]; sum = 15.7953\n",
            "output; 2022-06-06 14:24:15; Iter= 0-30; SRDQN= [2.61, -0.00, 3.43, 4.96]; sum = 10.9925; Rand= [5.08, 3.70, 9.02, 6.20]; sum = 23.9948; Strm= [1.92, 3.82, 8.97, 12.01]; sum = 26.7222; BS= [2.09, 2.44, 3.94, 6.39]; sum = 14.8558\n",
            "output; 2022-06-06 14:24:15; Iter= 0-31; SRDQN= [2.50, -0.00, 4.14, 6.94]; sum = 13.5837; Rand= [12.05, -0.00, 0.76, 0.80]; sum = 13.6002; Strm= [2.91, 8.37, 20.53, 20.91]; sum = 52.7222; BS= [2.97, 2.74, 3.03, 5.60]; sum = 14.3351\n",
            "output; 2022-06-06 14:24:16; Iter= 0-32; SRDQN= [2.72, -0.00, 4.37, 5.46]; sum = 12.5544; Rand= [2.06, 9.73, 16.08, 13.68]; sum = 41.5487; Strm= [1.79, 3.20, 5.52, 7.61]; sum = 18.1202; BS= [1.76, 2.13, 2.06, 4.13]; sum = 10.0813\n",
            "output; 2022-06-06 14:24:16; Iter= 0-33; SRDQN= [3.70, -0.00, 6.13, 8.95]; sum = 18.7816; Rand= [5.03, 7.23, 4.70, 2.71]; sum = 19.6667; Strm= [2.23, 5.83, 11.15, 12.47]; sum = 31.6818; BS= [2.31, 2.20, 2.41, 3.75]; sum = 10.6757\n",
            "output; 2022-06-06 14:24:16; Iter= 0-34; SRDQN= [1.94, -0.00, 4.97, 7.36]; sum = 14.2752; Rand= [7.57, 3.31, 8.01, 10.13]; sum = 29.0116; Strm= [1.90, 3.49, 5.45, 7.91]; sum = 18.7432; BS= [2.02, 2.72, 2.45, 4.68]; sum = 11.8734\n",
            "output; 2022-06-06 14:24:16; Iter= 0-35; SRDQN= [3.65, -0.00, 6.23, 8.20]; sum = 18.0779; Rand= [4.89, 11.16, 4.63, 5.53]; sum = 26.2159; Strm= [2.11, 3.72, 8.42, 10.74]; sum = 24.9852; BS= [2.19, 2.15, 3.14, 5.03]; sum = 12.4976\n",
            "output; 2022-06-06 14:24:16; Iter= 0-36; SRDQN= [2.82, -0.00, 4.78, 5.60]; sum = 13.1991; Rand= [4.81, 13.13, 1.66, 0.19]; sum = 19.7905; Strm= [2.17, 3.77, 8.26, 10.43]; sum = 24.6323; BS= [2.31, 2.32, 2.42, 4.89]; sum = 11.9405\n",
            "output; 2022-06-06 14:24:16; Iter= 0-37; SRDQN= [2.48, -0.00, 3.68, 5.83]; sum = 11.9831; Rand= [10.65, 1.49, 8.83, 2.87]; sum = 23.8431; Strm= [2.89, 5.29, 13.17, 15.57]; sum = 36.9184; BS= [3.02, 2.93, 3.11, 4.70]; sum = 13.7678\n",
            "output; 2022-06-06 14:24:17; Iter= 0-38; SRDQN= [3.80, 0.20, 4.96, 7.89]; sum = 16.8478; Rand= [7.92, 7.26, 12.19, 13.18]; sum = 40.5449; Strm= [2.09, 4.91, 13.23, 16.89]; sum = 37.1202; BS= [2.21, 2.70, 2.92, 4.33]; sum = 12.1553\n",
            "output; 2022-06-06 14:24:17; Iter= 0-39; SRDQN= [3.67, -0.00, 4.46, 5.46]; sum = 13.5903; Rand= [13.10, 5.61, 4.77, 1.50]; sum = 24.9773; Strm= [2.39, 5.58, 12.62, 17.67]; sum = 38.2642; BS= [2.88, 2.47, 3.35, 6.58]; sum = 15.2821\n",
            "output; 2022-06-06 14:24:17; Iter= 0-40; SRDQN= [2.99, 0.09, 4.18, 6.54]; sum = 13.8012; Rand= [12.17, 17.15, 0.92, 14.16]; sum = 44.4047; Strm= [2.31, 5.89, 13.87, 14.83]; sum = 36.8909; BS= [2.37, 3.05, 2.94, 7.13]; sum = 15.4948\n",
            "output; 2022-06-06 14:24:17; Iter= 0-41; SRDQN= [3.88, -0.00, 4.06, 5.96]; sum = 13.8948; Rand= [5.04, 16.83, 8.80, 2.14]; sum = 32.8127; Strm= [2.09, 4.31, 8.14, 11.40]; sum = 25.9401; BS= [1.91, 1.93, 2.74, 5.30]; sum = 11.8810\n",
            "output; 2022-06-06 14:24:17; Iter= 0-42; SRDQN= [3.05, -0.00, 4.26, 7.81]; sum = 15.1159; Rand= [7.66, 1.58, 3.22, 11.65]; sum = 24.1199; Strm= [2.82, 8.12, 20.54, 20.91]; sum = 52.3791; BS= [2.88, 2.52, 3.52, 5.73]; sum = 14.6489\n",
            "output; 2022-06-06 14:24:17; Iter= 0-43; SRDQN= [3.15, 0.01, 5.28, 6.39]; sum = 14.8283; Rand= [5.46, 1.82, 15.52, 7.72]; sum = 30.5123; Strm= [2.19, 4.96, 11.88, 15.24]; sum = 34.2706; BS= [2.29, 2.26, 3.20, 5.53]; sum = 13.2712\n",
            "output; 2022-06-06 14:24:17; Iter= 0-44; SRDQN= [3.57, -0.00, 3.04, 4.93]; sum = 11.5309; Rand= [11.88, 17.49, 0.90, 2.78]; sum = 33.0542; Strm= [2.15, 5.50, 11.57, 12.78]; sum = 31.9950; BS= [2.32, 2.34, 2.75, 6.65]; sum = 14.0598\n",
            "output; 2022-06-06 14:24:18; Iter= 0-45; SRDQN= [2.92, -0.00, 4.66, 6.59]; sum = 14.1712; Rand= [8.01, 6.84, 10.39, 0.18]; sum = 25.4243; Strm= [2.87, 7.65, 17.35, 20.46]; sum = 48.3270; BS= [3.14, 2.77, 3.62, 6.54]; sum = 16.0679\n",
            "output; 2022-06-06 14:24:18; Iter= 0-46; SRDQN= [1.85, -0.00, 3.95, 5.17]; sum = 10.9756; Rand= [11.13, 4.83, 2.57, 5.54]; sum = 24.0731; Strm= [2.72, 5.71, 12.12, 15.69]; sum = 36.2444; BS= [2.92, 2.68, 3.41, 6.13]; sum = 15.1478\n",
            "output; 2022-06-06 14:24:18; Iter= 0-47; SRDQN= [3.02, -0.00, 5.38, 6.95]; sum = 15.3470; Rand= [10.04, -0.00, 4.11, 1.87]; sum = 16.0249; Strm= [2.36, 4.59, 8.10, 11.04]; sum = 26.0941; BS= [2.43, 2.63, 2.63, 4.04]; sum = 11.7309\n",
            "output; 2022-06-06 14:24:18; Iter= 0-48; SRDQN= [3.37, -0.00, 4.84, 6.64]; sum = 14.8438; Rand= [14.16, 3.23, 10.93, 2.21]; sum = 30.5375; Strm= [2.54, 6.62, 12.83, 18.09]; sum = 40.0676; BS= [2.63, 2.55, 3.71, 5.14]; sum = 14.0359\n",
            "output; 2022-06-06 14:24:18; Iter= 0-49; SRDQN= [3.11, -0.00, 4.88, 6.81]; sum = 14.8036; Rand= [3.66, 4.37, 7.68, 14.64]; sum = 30.3429; Strm= [2.42, 5.18, 10.61, 14.70]; sum = 32.9125; BS= [2.42, 2.33, 3.57, 5.64]; sum = 13.9518\n",
            "---------------------------------------------------------------------------------------\n",
            "SUMMARY; 2022-06-06 14:24:18; ITER= 0; SRDQN= [3.02, 0.01, 4.67, 6.68]; SUM = 14.3956; Rand= [8.91, 6.90, 6.09, 6.26]; SUM = 28.1566; STRM= [2.31, 5.08, 11.11, 13.89]; SUM = 32.3774; BS= [2.39, 2.42, 3.08, 5.54]; SUM = 13.4315\n",
            "=======================================================================================\n",
            "/content/drive/MyDrive/Colab Notebooks/Bear Game Project/SRDQN.py:313: VisibleDeprecationWarning: Creating an ndarray from ragged nested sequences (which is a list-or-tuple of lists-or-tuples-or ndarrays with different lengths or shapes) is deprecated. If you meant to do this, you must specify 'dtype=object' when creating the ndarray.\n",
            "  y_batch = reward_batch + (1-np.array(minibatch)[:,4])*self.config.gamma * np.max(QValue_batch, axis=1)\n",
            "output; 2022-06-06 14:24:35; Iter= 500-0; SRDQN= [2.15, 3.56, 3.32, 6.84]; sum = 15.8712; Rand= [3.31, 9.81, 5.09, 4.82]; sum = 23.0249; Strm= [2.08, 3.48, 7.31, 8.80]; sum = 21.6756; BS= [2.23, 2.22, 2.34, 4.96]; sum = 11.7413\n",
            "output; 2022-06-06 14:24:35; Iter= 500-1; SRDQN= [2.06, 8.08, 1.73, 3.17]; sum = 15.0495; Rand= [8.44, 2.18, 7.54, 2.89]; sum = 21.0461; Strm= [1.85, 2.83, 6.78, 7.11]; sum = 18.5620; BS= [2.17, 2.54, 2.25, 4.03]; sum = 10.9888\n",
            "output; 2022-06-06 14:24:35; Iter= 500-2; SRDQN= [2.29, 10.04, 3.22, 5.89]; sum = 21.4418; Rand= [9.60, 3.27, 5.81, 4.42]; sum = 23.1002; Strm= [2.78, 6.36, 16.10, 18.42]; sum = 43.6610; BS= [2.69, 2.35, 3.17, 5.79]; sum = 13.9905\n",
            "output; 2022-06-06 14:24:35; Iter= 500-3; SRDQN= [2.48, 9.01, 3.14, 6.61]; sum = 21.2427; Rand= [5.88, 6.48, 15.64, 7.56]; sum = 35.5637; Strm= [2.94, 7.28, 14.22, 16.25]; sum = 40.6797; BS= [2.92, 2.36, 3.48, 5.49]; sum = 14.2524\n",
            "output; 2022-06-06 14:24:36; Iter= 500-4; SRDQN= [2.26, 0.74, 2.88, 4.66]; sum = 10.5332; Rand= [11.06, 8.66, 0.03, 7.93]; sum = 27.6827; Strm= [2.65, 6.39, 16.10, 19.22]; sum = 44.3522; BS= [2.74, 2.96, 3.29, 5.50]; sum = 14.4769\n",
            "output; 2022-06-06 14:24:36; Iter= 500-5; SRDQN= [2.04, 13.56, 1.71, 3.53]; sum = 20.8430; Rand= [5.09, 6.59, 5.79, 3.51]; sum = 20.9819; Strm= [2.11, 4.76, 10.26, 16.54]; sum = 33.6645; BS= [2.23, 2.15, 3.04, 6.40]; sum = 13.8232\n",
            "output; 2022-06-06 14:24:36; Iter= 500-6; SRDQN= [1.68, 12.34, 1.84, 3.66]; sum = 19.5254; Rand= [10.75, 15.04, 6.78, 0.09]; sum = 32.6512; Strm= [1.68, 3.63, 8.06, 10.84]; sum = 24.2133; BS= [1.80, 1.86, 2.79, 4.79]; sum = 11.2366\n",
            "output; 2022-06-06 14:24:36; Iter= 500-7; SRDQN= [2.29, 9.39, 2.06, 3.51]; sum = 17.2451; Rand= [7.05, 5.73, 10.80, 1.55]; sum = 25.1379; Strm= [2.48, 5.65, 12.75, 17.57]; sum = 38.4584; BS= [2.47, 2.86, 2.92, 5.49]; sum = 13.7355\n",
            "output; 2022-06-06 14:24:36; Iter= 500-8; SRDQN= [1.73, 13.32, 1.64, 3.69]; sum = 20.3792; Rand= [9.88, 9.82, 2.64, 12.62]; sum = 34.9686; Strm= [1.66, 3.14, 6.51, 9.37]; sum = 20.6764; BS= [1.79, 2.39, 2.73, 4.11]; sum = 11.0069\n",
            "output; 2022-06-06 14:24:36; Iter= 500-9; SRDQN= [2.01, 7.13, 2.49, 4.70]; sum = 16.3236; Rand= [14.34, 9.74, 0.06, 3.28]; sum = 27.4205; Strm= [2.21, 4.91, 11.25, 14.77]; sum = 33.1328; BS= [2.29, 2.43, 2.82, 5.46]; sum = 12.9941\n",
            "output; 2022-06-06 14:24:37; Iter= 500-10; SRDQN= [1.86, 9.78, 2.14, 3.53]; sum = 17.3168; Rand= [5.33, 7.65, 9.92, 3.81]; sum = 26.7040; Strm= [2.07, 4.42, 9.16, 11.94]; sum = 27.5867; BS= [2.11, 2.16, 3.03, 5.35]; sum = 12.6461\n",
            "output; 2022-06-06 14:24:37; Iter= 500-11; SRDQN= [2.26, 0.35, 2.37, 4.51]; sum = 9.4860; Rand= [9.85, 4.14, 12.88, 7.10]; sum = 33.9583; Strm= [2.15, 5.05, 12.11, 15.90]; sum = 35.2170; BS= [2.28, 2.31, 3.64, 7.73]; sum = 15.9680\n",
            "output; 2022-06-06 14:24:37; Iter= 500-12; SRDQN= [2.08, 9.49, 3.27, 6.40]; sum = 21.2362; Rand= [4.30, 2.11, 12.17, 7.86]; sum = 26.4381; Strm= [2.09, 4.75, 7.25, 9.34]; sum = 23.4223; BS= [2.18, 2.45, 3.89, 5.89]; sum = 14.4118\n",
            "output; 2022-06-06 14:24:37; Iter= 500-13; SRDQN= [1.98, 0.89, 2.25, 3.13]; sum = 8.2458; Rand= [2.47, 5.13, 9.56, 2.89]; sum = 20.0490; Strm= [1.86, 4.36, 9.21, 13.04]; sum = 28.4714; BS= [1.97, 2.30, 3.28, 5.54]; sum = 13.0957\n",
            "output; 2022-06-06 14:24:37; Iter= 500-14; SRDQN= [2.11, 9.47, 2.38, 4.74]; sum = 18.6959; Rand= [7.55, 13.36, 3.98, 0.06]; sum = 24.9433; Strm= [2.25, 4.02, 6.42, 7.85]; sum = 20.5386; BS= [2.24, 2.28, 2.37, 4.31]; sum = 11.2045\n",
            "output; 2022-06-06 14:24:37; Iter= 500-15; SRDQN= [2.09, 5.38, 2.14, 4.52]; sum = 14.1276; Rand= [11.53, 4.20, 0.26, 2.38]; sum = 18.3651; Strm= [2.10, 4.72, 9.92, 11.44]; sum = 28.1831; BS= [2.32, 1.92, 2.60, 5.48]; sum = 12.3249\n",
            "output; 2022-06-06 14:24:38; Iter= 500-16; SRDQN= [1.97, 18.13, 2.89, 4.12]; sum = 27.1108; Rand= [14.54, 7.51, 5.49, 10.36]; sum = 37.9025; Strm= [2.18, 3.94, 5.60, 7.15]; sum = 18.8764; BS= [2.23, 2.63, 2.89, 4.77]; sum = 12.5127\n",
            "output; 2022-06-06 14:24:38; Iter= 500-17; SRDQN= [1.90, 15.37, 1.92, 3.04]; sum = 22.2245; Rand= [7.81, 14.18, 3.89, 3.78]; sum = 29.6489; Strm= [2.05, 3.85, 9.25, 10.97]; sum = 26.1151; BS= [2.06, 2.40, 2.74, 6.49]; sum = 13.6845\n",
            "output; 2022-06-06 14:24:38; Iter= 500-18; SRDQN= [2.07, 5.76, 2.32, 4.65]; sum = 14.8004; Rand= [13.21, 3.56, 4.05, 6.92]; sum = 27.7381; Strm= [1.71, 3.02, 5.72, 7.80]; sum = 18.2386; BS= [1.85, 1.92, 1.97, 4.80]; sum = 10.5420\n",
            "output; 2022-06-06 14:24:38; Iter= 500-19; SRDQN= [2.40, 9.64, 3.08, 6.26]; sum = 21.3792; Rand= [3.34, 16.06, 3.43, 8.37]; sum = 31.1979; Strm= [2.88, 8.50, 18.91, 24.44]; sum = 54.7339; BS= [2.96, 2.43, 4.58, 8.26]; sum = 18.2317\n",
            "output; 2022-06-06 14:24:38; Iter= 500-20; SRDQN= [2.59, 11.77, 1.96, 4.07]; sum = 20.3965; Rand= [6.44, 11.91, 4.42, 4.17]; sum = 26.9483; Strm= [2.87, 6.94, 16.16, 19.25]; sum = 45.2305; BS= [2.94, 2.78, 3.33, 5.22]; sum = 14.2758\n",
            "output; 2022-06-06 14:24:38; Iter= 500-21; SRDQN= [2.34, 7.71, 2.94, 4.61]; sum = 17.6075; Rand= [5.13, 10.63, 3.53, 3.52]; sum = 22.8070; Strm= [2.55, 5.45, 13.96, 20.46]; sum = 42.4299; BS= [2.65, 2.59, 3.20, 6.07]; sum = 14.5075\n",
            "output; 2022-06-06 14:24:39; Iter= 500-22; SRDQN= [2.08, 8.27, 1.95, 3.55]; sum = 15.8471; Rand= [11.47, 5.40, 4.66, 0.01]; sum = 21.5368; Strm= [2.08, 4.10, 8.98, 12.71]; sum = 27.8775; BS= [2.26, 2.49, 3.26, 5.92]; sum = 13.9162\n",
            "output; 2022-06-06 14:24:39; Iter= 500-23; SRDQN= [1.65, 8.75, 1.75, 2.94]; sum = 15.1014; Rand= [8.00, 8.22, 10.96, 14.80]; sum = 41.9822; Strm= [1.63, 2.41, 4.38, 6.65]; sum = 15.0703; BS= [1.89, 2.11, 2.55, 4.47]; sum = 11.0145\n",
            "output; 2022-06-06 14:24:39; Iter= 500-24; SRDQN= [2.46, 10.91, 2.78, 6.04]; sum = 22.1934; Rand= [4.53, 6.62, 5.82, 2.79]; sum = 19.7560; Strm= [2.69, 5.96, 11.46, 13.50]; sum = 33.6063; BS= [2.60, 2.40, 3.86, 6.47]; sum = 15.3223\n",
            "output; 2022-06-06 14:24:39; Iter= 500-25; SRDQN= [2.19, 14.05, 1.41, 3.23]; sum = 20.8896; Rand= [11.04, 6.96, 0.83, 10.24]; sum = 29.0662; Strm= [2.16, 4.10, 8.97, 13.58]; sum = 28.8057; BS= [2.34, 2.37, 3.25, 5.89]; sum = 13.8484\n",
            "output; 2022-06-06 14:24:39; Iter= 500-26; SRDQN= [1.93, 10.40, 1.80, 3.72]; sum = 17.8482; Rand= [3.55, 6.48, 7.80, 14.16]; sum = 31.9952; Strm= [2.30, 3.98, 10.15, 13.56]; sum = 29.9831; BS= [2.29, 2.33, 3.31, 6.45]; sum = 14.3846\n",
            "output; 2022-06-06 14:24:39; Iter= 500-27; SRDQN= [2.71, 8.28, 3.47, 6.62]; sum = 21.0800; Rand= [4.07, 15.78, 3.63, 0.36]; sum = 23.8376; Strm= [3.05, 8.10, 23.32, 21.50]; sum = 55.9791; BS= [3.10, 2.77, 4.44, 5.36]; sum = 15.6599\n",
            "output; 2022-06-06 14:24:40; Iter= 500-28; SRDQN= [2.00, 5.10, 2.79, 5.81]; sum = 15.6965; Rand= [2.88, 6.60, 12.26, 6.54]; sum = 28.2741; Strm= [2.44, 5.34, 9.19, 12.17]; sum = 29.1471; BS= [2.06, 1.81, 2.69, 5.66]; sum = 12.2276\n",
            "output; 2022-06-06 14:24:40; Iter= 500-29; SRDQN= [2.59, 7.84, 2.96, 5.34]; sum = 18.7307; Rand= [12.79, 4.96, 2.03, 4.82]; sum = 24.6071; Strm= [2.89, 5.96, 11.59, 14.81]; sum = 35.2509; BS= [2.81, 2.33, 3.47, 7.19]; sum = 15.7953\n",
            "output; 2022-06-06 14:24:40; Iter= 500-30; SRDQN= [1.97, 5.34, 1.67, 2.70]; sum = 11.6801; Rand= [10.13, 18.65, 1.99, 6.22]; sum = 36.9946; Strm= [1.92, 3.82, 8.97, 12.01]; sum = 26.7222; BS= [2.09, 2.44, 3.94, 6.39]; sum = 14.8558\n",
            "output; 2022-06-06 14:24:40; Iter= 500-31; SRDQN= [2.54, 12.22, 2.82, 5.84]; sum = 23.4293; Rand= [6.30, 12.52, 7.79, 2.44]; sum = 29.0471; Strm= [2.91, 8.37, 20.53, 20.91]; sum = 52.7222; BS= [2.97, 2.74, 3.03, 5.60]; sum = 14.3351\n",
            "output; 2022-06-06 14:24:40; Iter= 500-32; SRDQN= [1.63, 15.18, 2.00, 3.53]; sum = 22.3347; Rand= [11.94, 4.53, 1.05, 4.95]; sum = 22.4693; Strm= [1.79, 3.20, 5.52, 7.61]; sum = 18.1202; BS= [1.76, 2.13, 2.06, 4.13]; sum = 10.0813\n",
            "output; 2022-06-06 14:24:40; Iter= 500-33; SRDQN= [2.36, 6.95, 4.03, 6.36]; sum = 19.6968; Rand= [7.83, 0.61, 0.52, 0.30]; sum = 9.2610; Strm= [2.23, 5.83, 11.15, 12.47]; sum = 31.6818; BS= [2.31, 2.20, 2.41, 3.75]; sum = 10.6757\n",
            "output; 2022-06-06 14:24:40; Iter= 500-34; SRDQN= [1.94, 16.90, 1.76, 3.52]; sum = 24.1269; Rand= [7.18, 8.73, 4.17, 10.40]; sum = 30.4952; Strm= [1.90, 3.49, 5.45, 7.91]; sum = 18.7432; BS= [2.02, 2.72, 2.45, 4.68]; sum = 11.8734\n",
            "output; 2022-06-06 14:24:41; Iter= 500-35; SRDQN= [1.85, 6.89, 1.40, 2.21]; sum = 12.3501; Rand= [3.69, 4.14, 5.02, 12.50]; sum = 25.3450; Strm= [2.11, 3.72, 8.42, 10.74]; sum = 24.9852; BS= [2.19, 2.15, 3.14, 5.03]; sum = 12.4976\n",
            "output; 2022-06-06 14:24:41; Iter= 500-36; SRDQN= [2.05, 5.84, 1.79, 3.20]; sum = 12.8772; Rand= [8.58, 4.66, 7.45, 0.42]; sum = 21.1120; Strm= [2.17, 3.77, 8.26, 10.43]; sum = 24.6323; BS= [2.31, 2.32, 2.42, 4.89]; sum = 11.9405\n",
            "output; 2022-06-06 14:24:41; Iter= 500-37; SRDQN= [2.66, 10.08, 2.36, 4.44]; sum = 19.5332; Rand= [12.63, 11.95, 6.02, 4.78]; sum = 35.3789; Strm= [2.89, 5.29, 13.17, 15.57]; sum = 36.9184; BS= [3.02, 2.93, 3.11, 4.70]; sum = 13.7678\n",
            "output; 2022-06-06 14:24:41; Iter= 500-38; SRDQN= [1.92, 14.72, 1.92, 3.41]; sum = 21.9631; Rand= [9.15, 6.33, 7.32, 15.27]; sum = 38.0710; Strm= [2.09, 4.91, 13.23, 16.89]; sum = 37.1202; BS= [2.21, 2.70, 2.92, 4.33]; sum = 12.1553\n",
            "output; 2022-06-06 14:24:41; Iter= 500-39; SRDQN= [3.50, 2.17, 4.22, 6.78]; sum = 16.6748; Rand= [12.65, 5.01, 8.33, 12.62]; sum = 38.6096; Strm= [2.39, 5.58, 12.62, 17.67]; sum = 38.2642; BS= [2.88, 2.47, 3.35, 6.58]; sum = 15.2821\n",
            "output; 2022-06-06 14:24:41; Iter= 500-40; SRDQN= [2.21, 3.79, 2.47, 3.50]; sum = 11.9666; Rand= [12.44, 7.00, 5.40, 0.47]; sum = 25.3126; Strm= [2.31, 5.89, 13.87, 14.83]; sum = 36.8909; BS= [2.37, 3.05, 2.94, 7.13]; sum = 15.4948\n",
            "output; 2022-06-06 14:24:42; Iter= 500-41; SRDQN= [1.66, 16.77, 2.70, 4.75]; sum = 25.8679; Rand= [9.14, 4.62, 4.43, 0.11]; sum = 18.2970; Strm= [2.09, 4.31, 8.14, 11.40]; sum = 25.9401; BS= [1.91, 1.93, 2.74, 5.30]; sum = 11.8810\n",
            "output; 2022-06-06 14:24:42; Iter= 500-42; SRDQN= [2.47, 4.83, 3.38, 5.02]; sum = 15.7122; Rand= [13.08, 10.51, 3.19, 17.56]; sum = 44.3275; Strm= [2.82, 8.12, 20.54, 20.91]; sum = 52.3791; BS= [2.88, 2.52, 3.52, 5.73]; sum = 14.6489\n",
            "output; 2022-06-06 14:24:42; Iter= 500-43; SRDQN= [1.82, 13.83, 2.07, 3.54]; sum = 21.2527; Rand= [8.48, 5.81, 5.21, 2.92]; sum = 22.4252; Strm= [2.19, 4.96, 11.88, 15.24]; sum = 34.2706; BS= [2.29, 2.26, 3.20, 5.53]; sum = 13.2712\n",
            "output; 2022-06-06 14:24:42; Iter= 500-44; SRDQN= [2.18, 5.88, 1.58, 2.90]; sum = 12.5381; Rand= [10.98, 7.94, 7.71, 3.32]; sum = 29.9526; Strm= [2.15, 5.50, 11.57, 12.78]; sum = 31.9950; BS= [2.32, 2.34, 2.75, 6.65]; sum = 14.0598\n",
            "output; 2022-06-06 14:24:42; Iter= 500-45; SRDQN= [2.38, 0.42, 2.84, 4.68]; sum = 10.3240; Rand= [6.94, 5.27, 9.03, 6.62]; sum = 27.8601; Strm= [2.87, 7.65, 17.35, 20.46]; sum = 48.3270; BS= [3.14, 2.77, 3.62, 6.54]; sum = 16.0679\n",
            "output; 2022-06-06 14:24:42; Iter= 500-46; SRDQN= [2.52, 14.57, 3.14, 5.68]; sum = 25.9159; Rand= [8.03, 7.57, 15.01, 13.59]; sum = 44.1914; Strm= [2.72, 5.71, 12.12, 15.69]; sum = 36.2444; BS= [2.92, 2.68, 3.41, 6.13]; sum = 15.1478\n",
            "output; 2022-06-06 14:24:43; Iter= 500-47; SRDQN= [2.14, 13.47, 2.69, 4.51]; sum = 22.8161; Rand= [10.10, 16.43, 4.92, 6.55]; sum = 38.0022; Strm= [2.36, 4.59, 8.10, 11.04]; sum = 26.0941; BS= [2.43, 2.63, 2.63, 4.04]; sum = 11.7309\n",
            "output; 2022-06-06 14:24:43; Iter= 500-48; SRDQN= [2.42, 9.24, 3.66, 5.35]; sum = 20.6715; Rand= [11.55, 6.95, 5.38, 8.54]; sum = 32.4158; Strm= [2.54, 6.62, 12.83, 18.09]; sum = 40.0676; BS= [2.63, 2.55, 3.71, 5.14]; sum = 14.0359\n",
            "output; 2022-06-06 14:24:43; Iter= 500-49; SRDQN= [2.27, 0.87, 2.08, 3.66]; sum = 8.8740; Rand= [3.07, 13.42, 7.37, 12.02]; sum = 35.8702; Strm= [2.42, 5.18, 10.61, 14.70]; sum = 32.9125; BS= [2.42, 2.33, 3.57, 5.64]; sum = 13.9518\n",
            "---------------------------------------------------------------------------------------\n",
            "SUMMARY; 2022-06-06 14:24:43; ITER= 500; SRDQN= [2.17, 8.89, 2.46, 4.45]; SUM = 17.9815; Rand= [8.38, 8.03, 5.98, 6.10]; SUM = 28.4954; STRM= [2.31, 5.08, 11.11, 13.89]; SUM = 32.3774; BS= [2.39, 2.42, 3.08, 5.54]; SUM = 13.4315\n",
            "=======================================================================================\n"
          ]
        }
      ]
    },
    {
      "cell_type": "code",
      "source": [
        "driveG='drive/MyDrive/Colab Notebooks/Bear Game Project/'\n",
        "driveG=driveG+'123'\n",
        "print(driveG)"
      ],
      "metadata": {
        "colab": {
          "base_uri": "https://localhost:8080/"
        },
        "id": "cewy5IdUvmv6",
        "outputId": "674b30e9-d45b-47b0-ab50-7eebcaa49098"
      },
      "execution_count": null,
      "outputs": [
        {
          "output_type": "stream",
          "name": "stdout",
          "text": [
            "drive/MyDrive/Colab Notebooks/Bear Game Project/123\n"
          ]
        }
      ]
    },
    {
      "cell_type": "code",
      "source": [
        "!pip install numpyencoder\n",
        "import numpyencoder"
      ],
      "metadata": {
        "colab": {
          "base_uri": "https://localhost:8080/"
        },
        "id": "To5DCun2pjk6",
        "outputId": "cfb493b4-6e35-446b-de94-d1861338a401"
      },
      "execution_count": 5,
      "outputs": [
        {
          "output_type": "stream",
          "name": "stdout",
          "text": [
            "Looking in indexes: https://pypi.org/simple, https://us-python.pkg.dev/colab-wheels/public/simple/\n",
            "Collecting numpyencoder\n",
            "  Downloading numpyencoder-0.3.0-py3-none-any.whl (3.0 kB)\n",
            "Requirement already satisfied: numpy>=1.14.3 in /usr/local/lib/python3.7/dist-packages (from numpyencoder) (1.21.6)\n",
            "Installing collected packages: numpyencoder\n",
            "Successfully installed numpyencoder-0.3.0\n"
          ]
        }
      ]
    },
    {
      "cell_type": "code",
      "source": [
        "print(config.maxEpisodesTrain)"
      ],
      "metadata": {
        "colab": {
          "base_uri": "https://localhost:8080/",
          "height": 165
        },
        "id": "jc0vJGUn2npq",
        "outputId": "2574151b-c63b-4a64-f2be-a0baa0698665"
      },
      "execution_count": null,
      "outputs": [
        {
          "output_type": "error",
          "ename": "NameError",
          "evalue": "ignored",
          "traceback": [
            "\u001b[0;31m---------------------------------------------------------------------------\u001b[0m",
            "\u001b[0;31mNameError\u001b[0m                                 Traceback (most recent call last)",
            "\u001b[0;32m<ipython-input-45-a51ec2a0dcd1>\u001b[0m in \u001b[0;36m<module>\u001b[0;34m()\u001b[0m\n\u001b[0;32m----> 1\u001b[0;31m \u001b[0mprint\u001b[0m\u001b[0;34m(\u001b[0m\u001b[0mconfig\u001b[0m\u001b[0;34m.\u001b[0m\u001b[0mmaxEpisodesTrain\u001b[0m\u001b[0;34m)\u001b[0m\u001b[0;34m\u001b[0m\u001b[0;34m\u001b[0m\u001b[0m\n\u001b[0m",
            "\u001b[0;31mNameError\u001b[0m: name 'config' is not defined"
          ]
        }
      ]
    },
    {
      "cell_type": "code",
      "source": [
        "import matplotlib.pyplot as plt\n",
        "#%matplotlib notebook \n",
        "%matplotlib inline \n"
      ],
      "metadata": {
        "id": "MeXJG0soJzfS"
      },
      "execution_count": 6,
      "outputs": []
    },
    {
      "cell_type": "code",
      "source": [
        "\n",
        "for i in range (np.shape(data)[0]):\n",
        "  plt.subplot(4,5,5*i+1)\n",
        "  plt.plot(np.transpose(data[i])[0,:], np.transpose(data[i])[1,:],colori,label=pltLabel)\n",
        "  plt.xlabel('Time')\n",
        "  plt.ylabel('IL')\t\n",
        "  plt.grid(True)\n",
        "\n",
        "\n",
        "  plt.subplot(4,5,5*i+2)\n",
        "  plt.plot(np.transpose(data[i])[0,:], np.transpose(data[i])[2,:],colori, label=pltLabel)\n",
        "  plt.xlabel('Time')\n",
        "  plt.ylabel('OO')\n",
        "  plt.grid(True)\n",
        "  \n",
        "  plt.subplot(4,5,5*i+3)\n",
        "  plt.plot(np.transpose(data[i])[0,:], np.transpose(data[i])[3,:],colori, label=pltLabel)\n",
        "  plt.xlabel('Time')\n",
        "  plt.ylabel('a')\n",
        "  plt.grid(True)\n",
        "  \n",
        "  plt.subplot(4,5,5*i+4)\n",
        "  plt.plot(np.transpose(data[i])[0,:], np.transpose(data[i])[5,:],colori,label=pltLabel)\n",
        "  plt.xlabel('Time')\n",
        "  plt.ylabel('OUTL')\n",
        "  plt.grid(True)\n",
        "\n",
        "  plt.subplot(4,5,5*i+5)\n",
        "  plt.plot(np.transpose(data[i])[0,:], -1*np.transpose(data[i])[4,:],colori,label=pltLabel)\n",
        "  plt.xlabel('Time')\n",
        "  plt.ylabel('r')\n",
        "  plt.grid(True)\n",
        "\n"
      ],
      "metadata": {
        "id": "Tmd3lv98UHEC",
        "outputId": "3a26d91a-e662-4744-c64c-e7e35f5e9d27",
        "colab": {
          "base_uri": "https://localhost:8080/",
          "height": 252
        }
      },
      "execution_count": 10,
      "outputs": [
        {
          "output_type": "error",
          "ename": "NameError",
          "evalue": "ignored",
          "traceback": [
            "\u001b[0;31m---------------------------------------------------------------------------\u001b[0m",
            "\u001b[0;31mNameError\u001b[0m                                 Traceback (most recent call last)",
            "\u001b[0;32m<ipython-input-10-77bda75b0490>\u001b[0m in \u001b[0;36m<module>\u001b[0;34m()\u001b[0m\n\u001b[1;32m      1\u001b[0m \u001b[0;34m\u001b[0m\u001b[0m\n\u001b[0;32m----> 2\u001b[0;31m \u001b[0;32mfor\u001b[0m \u001b[0mi\u001b[0m \u001b[0;32min\u001b[0m \u001b[0mrange\u001b[0m \u001b[0;34m(\u001b[0m\u001b[0mnp\u001b[0m\u001b[0;34m.\u001b[0m\u001b[0mshape\u001b[0m\u001b[0;34m(\u001b[0m\u001b[0mdata\u001b[0m\u001b[0;34m)\u001b[0m\u001b[0;34m[\u001b[0m\u001b[0;36m0\u001b[0m\u001b[0;34m]\u001b[0m\u001b[0;34m)\u001b[0m\u001b[0;34m:\u001b[0m\u001b[0;34m\u001b[0m\u001b[0;34m\u001b[0m\u001b[0m\n\u001b[0m\u001b[1;32m      3\u001b[0m   \u001b[0mplt\u001b[0m\u001b[0;34m.\u001b[0m\u001b[0msubplot\u001b[0m\u001b[0;34m(\u001b[0m\u001b[0;36m4\u001b[0m\u001b[0;34m,\u001b[0m\u001b[0;36m5\u001b[0m\u001b[0;34m,\u001b[0m\u001b[0;36m5\u001b[0m\u001b[0;34m*\u001b[0m\u001b[0mi\u001b[0m\u001b[0;34m+\u001b[0m\u001b[0;36m1\u001b[0m\u001b[0;34m)\u001b[0m\u001b[0;34m\u001b[0m\u001b[0;34m\u001b[0m\u001b[0m\n\u001b[1;32m      4\u001b[0m   \u001b[0mplt\u001b[0m\u001b[0;34m.\u001b[0m\u001b[0mplot\u001b[0m\u001b[0;34m(\u001b[0m\u001b[0mnp\u001b[0m\u001b[0;34m.\u001b[0m\u001b[0mtranspose\u001b[0m\u001b[0;34m(\u001b[0m\u001b[0mdata\u001b[0m\u001b[0;34m[\u001b[0m\u001b[0mi\u001b[0m\u001b[0;34m]\u001b[0m\u001b[0;34m)\u001b[0m\u001b[0;34m[\u001b[0m\u001b[0;36m0\u001b[0m\u001b[0;34m,\u001b[0m\u001b[0;34m:\u001b[0m\u001b[0;34m]\u001b[0m\u001b[0;34m,\u001b[0m \u001b[0mnp\u001b[0m\u001b[0;34m.\u001b[0m\u001b[0mtranspose\u001b[0m\u001b[0;34m(\u001b[0m\u001b[0mdata\u001b[0m\u001b[0;34m[\u001b[0m\u001b[0mi\u001b[0m\u001b[0;34m]\u001b[0m\u001b[0;34m)\u001b[0m\u001b[0;34m[\u001b[0m\u001b[0;36m1\u001b[0m\u001b[0;34m,\u001b[0m\u001b[0;34m:\u001b[0m\u001b[0;34m]\u001b[0m\u001b[0;34m,\u001b[0m\u001b[0mcolori\u001b[0m\u001b[0;34m,\u001b[0m\u001b[0mlabel\u001b[0m\u001b[0;34m=\u001b[0m\u001b[0mpltLabel\u001b[0m\u001b[0;34m)\u001b[0m\u001b[0;34m\u001b[0m\u001b[0;34m\u001b[0m\u001b[0m\n\u001b[1;32m      5\u001b[0m   \u001b[0mplt\u001b[0m\u001b[0;34m.\u001b[0m\u001b[0mxlabel\u001b[0m\u001b[0;34m(\u001b[0m\u001b[0;34m'Time'\u001b[0m\u001b[0;34m)\u001b[0m\u001b[0;34m\u001b[0m\u001b[0;34m\u001b[0m\u001b[0m\n",
            "\u001b[0;31mNameError\u001b[0m: name 'np' is not defined"
          ]
        }
      ]
    }
  ]
}