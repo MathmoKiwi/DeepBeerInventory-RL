{
  "nbformat": 4,
  "nbformat_minor": 0,
  "metadata": {
    "colab": {
      "name": "colab_setup.ipynb",
      "provenance": [],
      "mount_file_id": "1Ls9rPHOB4zcDTHVseQfKy5uvFrX7Wcba",
      "authorship_tag": "ABX9TyN+2rTsSf2CeI6w6rRBgEy4"
    },
    "kernelspec": {
      "name": "python3",
      "display_name": "Python 3"
    },
    "language_info": {
      "name": "python"
    }
  },
  "cells": [
    {
      "cell_type": "code",
      "execution_count": 3,
      "metadata": {
        "colab": {
          "base_uri": "https://localhost:8080/"
        },
        "id": "7dcfgHdB2nf6",
        "outputId": "d4b20c9c-c3f0-4e1d-e010-ef97fd4091d9"
      },
      "outputs": [
        {
          "output_type": "stream",
          "name": "stdout",
          "text": [
            "`%tensorflow_version` only switches the major version: 1.x or 2.x.\n",
            "You set: `1.15.0`. This will be interpreted as: `1.x`.\n",
            "\n",
            "\n",
            "TensorFlow 1.x selected.\n"
          ]
        }
      ],
      "source": [
        "tensorflow_version 1.15.0"
      ]
    },
    {
      "cell_type": "code",
      "source": [
        "from google.colab import drive\n",
        "drive.mount('/content/drive')"
      ],
      "metadata": {
        "id": "TsUHW-kb39zS",
        "colab": {
          "base_uri": "https://localhost:8080/"
        },
        "outputId": "064e7d2c-52b5-4799-cf91-3300158e7afe"
      },
      "execution_count": 2,
      "outputs": [
        {
          "output_type": "stream",
          "name": "stdout",
          "text": [
            "Mounted at /content/drive\n"
          ]
        }
      ]
    },
    {
      "cell_type": "code",
      "source": [
        "drive.mount(\"/content/drive\", force_remount=True)"
      ],
      "metadata": {
        "colab": {
          "base_uri": "https://localhost:8080/"
        },
        "id": "LDy4ZtZPr81W",
        "outputId": "282755d5-958b-43a5-ff12-1353d4e5f134"
      },
      "execution_count": null,
      "outputs": [
        {
          "output_type": "stream",
          "name": "stdout",
          "text": [
            "Mounted at /content/drive\n"
          ]
        }
      ]
    },
    {
      "cell_type": "code",
      "source": [
        "import tensorflow as tf\n",
        "print(\"TensorFlow version:\", tf.__version__)"
      ],
      "metadata": {
        "colab": {
          "base_uri": "https://localhost:8080/"
        },
        "id": "oPcmxvjW2uLt",
        "outputId": "8431ccc5-7d77-4bd6-a478-ad7b7ca3178c"
      },
      "execution_count": 4,
      "outputs": [
        {
          "output_type": "stream",
          "name": "stdout",
          "text": [
            "TensorFlow version: 1.15.2\n"
          ]
        }
      ]
    },
    {
      "cell_type": "code",
      "source": [
        "!python3 \"/content/drive/MyDrive/Colab Notebooks/Bear Game Project/clBeergame.py\""
      ],
      "metadata": {
        "id": "eeWqmhXcnmGC"
      },
      "execution_count": null,
      "outputs": []
    },
    {
      "cell_type": "code",
      "source": [
        "!python3 \"/content/drive/MyDrive/Colab Notebooks/Bear Game Project/main.py\""
      ],
      "metadata": {
        "colab": {
          "base_uri": "https://localhost:8080/"
        },
        "id": "ZwLZur3Gokcy",
        "outputId": "e124c374-f687-4b0f-b61c-364763bcaa5c"
      },
      "execution_count": null,
      "outputs": [
        {
          "output_type": "stream",
          "name": "stdout",
          "text": [
            "WARNING:tensorflow:\n",
            "The TensorFlow contrib module will not be included in TensorFlow 2.0.\n",
            "For more information, please see:\n",
            "  * https://github.com/tensorflow/community/blob/master/rfcs/20180907-contrib-sunset.md\n",
            "  * https://github.com/tensorflow/addons\n",
            "  * https://github.com/tensorflow/io (for I/O related ops)\n",
            "If you depend on functionality not listed there, please file an issue.\n",
            "\n",
            "2022-06-06 09:06:39,545:WARNING::From /content/drive/MyDrive/Colab Notebooks/Bear Game Project/utilities.py:49: The name tf.logging.INFO is deprecated. Please use tf.compat.v1.logging.INFO instead.\n",
            "\n",
            "2022-06-06 09:06:39,546:WARNING::From /content/drive/MyDrive/Colab Notebooks/Bear Game Project/utilities.py:97: The name tf.logging.info is deprecated. Please use tf.compat.v1.logging.info instead.\n",
            "\n",
            "2022-06-06 09:06:39,546:INFO::MODEL dir: ./logs/bg_2022-06-06_09-06-39_3_3_3_3_2.0_0.0_0.0_0.0_2.0_2.0_2.0_2.0_20_4_600_0.00025_10_10000_0_2_0_1_22\n",
            "2022-06-06 09:06:39,546:INFO::PARAM path: ./logs/bg_2022-06-06_09-06-39_3_3_3_3_2.0_0.0_0.0_0.0_2.0_2.0_2.0_2.0_20_4_600_0.00025_10_10000_0_2_0_1_22/params.json\n",
            "loaded training set= /content/drive/MyDrive/Colab Notebooks/Bear Game Project/data/demandTr0-3.npy\n",
            "loaded test set= /content/data/demandTs0-3.npy\n",
            "2022-06-06 09:06:39,622:WARNING::From /content/drive/MyDrive/Colab Notebooks/Bear Game Project/SRDQN.py:26: The name tf.set_random_seed is deprecated. Please use tf.compat.v1.set_random_seed instead.\n",
            "\n",
            "2022-06-06 09:06:39,627:WARNING::From /content/drive/MyDrive/Colab Notebooks/Bear Game Project/SRDQN.py:205: The name tf.placeholder is deprecated. Please use tf.compat.v1.placeholder instead.\n",
            "\n",
            "2022-06-06 09:06:39,637:WARNING::From /content/drive/MyDrive/Colab Notebooks/Bear Game Project/SRDQN.py:455: The name tf.summary.scalar is deprecated. Please use tf.compat.v1.summary.scalar instead.\n",
            "\n",
            "2022-06-06 09:06:39,650:WARNING::From /content/drive/MyDrive/Colab Notebooks/Bear Game Project/SRDQN.py:461: The name tf.summary.histogram is deprecated. Please use tf.compat.v1.summary.histogram instead.\n",
            "\n",
            "2022-06-06 09:06:40,010:WARNING::From /content/drive/MyDrive/Colab Notebooks/Bear Game Project/SRDQN.py:290: The name tf.train.exponential_decay is deprecated. Please use tf.compat.v1.train.exponential_decay instead.\n",
            "\n",
            "2022-06-06 09:06:40,015:WARNING::From /content/drive/MyDrive/Colab Notebooks/Bear Game Project/SRDQN.py:291: The name tf.train.AdamOptimizer is deprecated. Please use tf.compat.v1.train.AdamOptimizer instead.\n",
            "\n",
            "2022-06-06 09:06:40,198:WARNING::From /content/drive/MyDrive/Colab Notebooks/Bear Game Project/SRDQN.py:110: The name tf.train.Saver is deprecated. Please use tf.compat.v1.train.Saver instead.\n",
            "\n",
            "2022-06-06 09:06:40,353:WARNING::From /content/drive/MyDrive/Colab Notebooks/Bear Game Project/SRDQN.py:111: The name tf.ConfigProto is deprecated. Please use tf.compat.v1.ConfigProto instead.\n",
            "\n",
            "2022-06-06 09:06:40,353:WARNING::From /content/drive/MyDrive/Colab Notebooks/Bear Game Project/SRDQN.py:119: The name tf.Session is deprecated. Please use tf.compat.v1.Session instead.\n",
            "\n",
            "2022-06-06 09:06:40.360211: I tensorflow/core/platform/profile_utils/cpu_utils.cc:94] CPU Frequency: 2199995000 Hz\n",
            "2022-06-06 09:06:40.360648: I tensorflow/compiler/xla/service/service.cc:168] XLA service 0x1acdb80 initialized for platform Host (this does not guarantee that XLA will be used). Devices:\n",
            "2022-06-06 09:06:40.360783: I tensorflow/compiler/xla/service/service.cc:176]   StreamExecutor device (0): Host, Default Version\n",
            "2022-06-06 09:06:40.363378: I tensorflow/stream_executor/platform/default/dso_loader.cc:44] Successfully opened dynamic library libcuda.so.1\n",
            "2022-06-06 09:06:40.374687: E tensorflow/stream_executor/cuda/cuda_driver.cc:318] failed call to cuInit: CUDA_ERROR_NO_DEVICE: no CUDA-capable device is detected\n",
            "2022-06-06 09:06:40.374752: I tensorflow/stream_executor/cuda/cuda_diagnostics.cc:156] kernel driver does not appear to be running on this host (1c0e41dbb619): /proc/driver/nvidia/version does not exist\n",
            "2022-06-06 09:06:40,375:WARNING::From /content/drive/MyDrive/Colab Notebooks/Bear Game Project/SRDQN.py:127: The name tf.summary.FileWriter is deprecated. Please use tf.compat.v1.summary.FileWriter instead.\n",
            "\n",
            "2022-06-06 09:06:40,467:WARNING::From /content/drive/MyDrive/Colab Notebooks/Bear Game Project/SRDQN.py:130: The name tf.global_variables_initializer is deprecated. Please use tf.compat.v1.global_variables_initializer instead.\n",
            "\n",
            "Previous models will not be used\n",
            "output; 2022-06-06 09:06:40; Iter= 0-0; SRDQN= [16.84, 1.98, -0.00, -0.00]; sum = 18.8181; Rand= [3.09, 5.87, 4.11, 10.51]; sum = 23.5828; Strm= [2.08, 3.48, 7.31, 8.80]; sum = 21.6756; BS= [1.30, -0.00, -0.00, -0.00]; sum = 1.3022\n",
            "output; 2022-06-06 09:06:40; Iter= 0-1; SRDQN= [11.51, 1.49, -0.00, -0.00]; sum = 13.0047; Rand= [13.26, 5.63, 3.25, 2.32]; sum = 24.4534; Strm= [1.85, 2.83, 6.78, 7.11]; sum = 18.5620; BS= [1.77, 0.18, -0.00, -0.00]; sum = 1.9447\n",
            "output; 2022-06-06 09:06:41; Iter= 0-2; SRDQN= [19.04, 1.67, -0.00, -0.00]; sum = 20.7080; Rand= [10.86, 5.56, 2.25, 1.93]; sum = 20.5997; Strm= [2.78, 6.36, 16.10, 18.42]; sum = 43.6610; BS= [1.85, -0.00, -0.00, -0.00]; sum = 1.8455\n",
            "output; 2022-06-06 09:06:41; Iter= 0-3; SRDQN= [15.09, 1.79, -0.00, -0.00]; sum = 16.8816; Rand= [4.65, 8.52, 12.51, 1.56]; sum = 27.2385; Strm= [2.94, 7.28, 14.22, 16.25]; sum = 40.6797; BS= [2.71, 0.20, -0.00, -0.00]; sum = 2.9112\n",
            "output; 2022-06-06 09:06:41; Iter= 0-4; SRDQN= [14.47, 1.38, -0.00, -0.00]; sum = 15.8525; Rand= [6.14, 7.09, 5.97, 1.00]; sum = 20.2004; Strm= [2.65, 6.39, 16.10, 19.22]; sum = 44.3522; BS= [1.96, 0.12, -0.00, -0.00]; sum = 2.0775\n",
            "output; 2022-06-06 09:06:41; Iter= 0-5; SRDQN= [16.91, 1.32, -0.00, -0.00]; sum = 18.2370; Rand= [4.14, 12.46, 0.55, 6.03]; sum = 23.1808; Strm= [2.11, 4.76, 10.26, 16.54]; sum = 33.6645; BS= [1.82, -0.00, -0.00, -0.00]; sum = 1.8164\n",
            "output; 2022-06-06 09:06:41; Iter= 0-6; SRDQN= [17.48, 1.32, -0.00, -0.00]; sum = 18.7975; Rand= [8.20, 5.51, 7.30, 2.90]; sum = 23.9171; Strm= [1.68, 3.63, 8.06, 10.84]; sum = 24.2133; BS= [2.68, 0.01, -0.00, -0.00]; sum = 2.6807\n",
            "output; 2022-06-06 09:06:41; Iter= 0-7; SRDQN= [15.75, 2.09, -0.00, -0.00]; sum = 17.8386; Rand= [4.71, 11.42, 3.69, 4.13]; sum = 23.9478; Strm= [2.48, 5.65, 12.75, 17.57]; sum = 38.4584; BS= [2.49, 0.12, -0.00, -0.00]; sum = 2.6169\n",
            "output; 2022-06-06 09:06:41; Iter= 0-8; SRDQN= [17.29, 1.84, -0.00, -0.00]; sum = 19.1226; Rand= [12.77, 6.48, 8.71, 5.69]; sum = 33.6520; Strm= [1.66, 3.14, 6.51, 9.37]; sum = 20.6764; BS= [1.51, -0.00, -0.00, -0.00]; sum = 1.5072\n",
            "output; 2022-06-06 09:06:42; Iter= 0-9; SRDQN= [15.33, 1.17, -0.00, -0.00]; sum = 16.5042; Rand= [9.50, 3.26, 6.98, 0.25]; sum = 19.9871; Strm= [2.21, 4.91, 11.25, 14.77]; sum = 33.1328; BS= [1.13, -0.00, -0.00, -0.00]; sum = 1.1318\n",
            "output; 2022-06-06 09:06:42; Iter= 0-10; SRDQN= [18.03, 1.38, -0.00, -0.00]; sum = 19.4114; Rand= [3.47, 10.86, 5.55, 13.49]; sum = 33.3808; Strm= [2.07, 4.42, 9.16, 11.94]; sum = 27.5867; BS= [1.64, -0.00, -0.00, -0.00]; sum = 1.6372\n",
            "output; 2022-06-06 09:06:42; Iter= 0-11; SRDQN= [13.80, 1.56, -0.00, -0.00]; sum = 15.3513; Rand= [13.43, 15.44, 6.04, 1.36]; sum = 36.2696; Strm= [2.15, 5.05, 12.11, 15.90]; sum = 35.2170; BS= [1.92, 0.07, -0.00, -0.00]; sum = 1.9884\n",
            "output; 2022-06-06 09:06:42; Iter= 0-12; SRDQN= [13.54, 1.65, -0.00, -0.00]; sum = 15.1863; Rand= [12.47, 4.48, 0.00, 13.26]; sum = 30.2153; Strm= [2.09, 4.75, 7.25, 9.34]; sum = 23.4223; BS= [1.74, 0.05, -0.00, -0.00]; sum = 1.7863\n",
            "output; 2022-06-06 09:06:42; Iter= 0-13; SRDQN= [13.75, 1.91, -0.00, -0.00]; sum = 15.6684; Rand= [10.39, 8.22, 1.62, 17.65]; sum = 37.8899; Strm= [1.86, 4.36, 9.21, 13.04]; sum = 28.4714; BS= [2.05, 0.10, -0.00, -0.00]; sum = 2.1501\n",
            "output; 2022-06-06 09:06:42; Iter= 0-14; SRDQN= [20.29, 1.97, -0.00, -0.00]; sum = 22.2636; Rand= [11.49, 7.83, 6.16, 3.44]; sum = 28.9161; Strm= [2.25, 4.02, 6.42, 7.85]; sum = 20.5386; BS= [2.05, -0.00, -0.00, -0.00]; sum = 2.0455\n",
            "output; 2022-06-06 09:06:43; Iter= 0-15; SRDQN= [17.71, 1.63, -0.00, -0.00]; sum = 19.3423; Rand= [8.96, 0.72, 2.20, 10.05]; sum = 21.9256; Strm= [2.10, 4.72, 9.92, 11.44]; sum = 28.1831; BS= [2.08, -0.00, -0.00, -0.00]; sum = 2.0767\n",
            "output; 2022-06-06 09:06:43; Iter= 0-16; SRDQN= [11.13, 1.99, -0.00, -0.00]; sum = 13.1127; Rand= [18.06, 1.27, 4.96, 9.41]; sum = 33.6916; Strm= [2.18, 3.94, 5.60, 7.15]; sum = 18.8764; BS= [1.98, 0.02, -0.00, -0.00]; sum = 1.9963\n",
            "output; 2022-06-06 09:06:43; Iter= 0-17; SRDQN= [14.76, 1.78, -0.00, -0.00]; sum = 16.5445; Rand= [14.18, 8.24, 6.51, 9.35]; sum = 38.2731; Strm= [2.05, 3.85, 9.25, 10.97]; sum = 26.1151; BS= [1.82, 0.02, -0.00, -0.00]; sum = 1.8395\n",
            "output; 2022-06-06 09:06:43; Iter= 0-18; SRDQN= [16.41, 1.42, -0.00, -0.00]; sum = 17.8255; Rand= [3.48, 3.18, 3.98, 6.57]; sum = 17.2149; Strm= [1.71, 3.02, 5.72, 7.80]; sum = 18.2386; BS= [1.71, 0.01, -0.00, -0.00]; sum = 1.7238\n",
            "output; 2022-06-06 09:06:43; Iter= 0-19; SRDQN= [18.36, 1.58, -0.00, -0.00]; sum = 19.9361; Rand= [10.00, 6.00, 7.28, 0.85]; sum = 24.1305; Strm= [2.88, 8.50, 18.91, 24.44]; sum = 54.7339; BS= [1.92, -0.00, -0.00, -0.00]; sum = 1.9199\n",
            "output; 2022-06-06 09:06:43; Iter= 0-20; SRDQN= [16.75, 1.82, -0.00, -0.00]; sum = 18.5734; Rand= [16.37, 7.38, 5.98, 9.26]; sum = 38.9895; Strm= [2.87, 6.94, 16.16, 19.25]; sum = 45.2305; BS= [2.09, 0.02, -0.00, -0.00]; sum = 2.1134\n",
            "output; 2022-06-06 09:06:44; Iter= 0-21; SRDQN= [17.31, 1.67, -0.00, -0.00]; sum = 18.9773; Rand= [12.63, 10.25, 8.32, 6.63]; sum = 37.8341; Strm= [2.55, 5.45, 13.96, 20.46]; sum = 42.4299; BS= [1.95, 0.13, -0.00, -0.00]; sum = 2.0780\n",
            "output; 2022-06-06 09:06:44; Iter= 0-22; SRDQN= [13.13, 1.55, -0.00, -0.00]; sum = 14.6797; Rand= [11.22, 1.47, 0.02, 3.49]; sum = 16.1945; Strm= [2.08, 4.10, 8.98, 12.71]; sum = 27.8775; BS= [1.55, 0.03, -0.00, -0.00]; sum = 1.5838\n",
            "output; 2022-06-06 09:06:44; Iter= 0-23; SRDQN= [15.87, 1.85, -0.00, -0.00]; sum = 17.7261; Rand= [14.59, 7.10, 10.56, 14.14]; sum = 46.3968; Strm= [1.63, 2.41, 4.38, 6.65]; sum = 15.0703; BS= [1.44, -0.00, -0.00, -0.00]; sum = 1.4359\n",
            "output; 2022-06-06 09:06:44; Iter= 0-24; SRDQN= [20.76, 1.93, -0.00, -0.00]; sum = 22.6887; Rand= [4.36, 4.61, 11.10, 6.14]; sum = 26.2198; Strm= [2.69, 5.96, 11.46, 13.50]; sum = 33.6063; BS= [2.63, -0.00, -0.00, -0.00]; sum = 2.6262\n",
            "output; 2022-06-06 09:06:45; Iter= 0-25; SRDQN= [13.47, 1.20, -0.00, -0.00]; sum = 14.6669; Rand= [7.81, 8.93, 3.60, 10.29]; sum = 30.6262; Strm= [2.16, 4.10, 8.97, 13.58]; sum = 28.8057; BS= [1.80, 0.06, -0.00, -0.00]; sum = 1.8589\n",
            "output; 2022-06-06 09:06:45; Iter= 0-26; SRDQN= [18.72, 1.79, -0.00, -0.00]; sum = 20.5053; Rand= [7.64, 4.29, 4.23, 5.95]; sum = 22.1097; Strm= [2.30, 3.98, 10.15, 13.56]; sum = 29.9831; BS= [2.60, 0.10, -0.00, -0.00]; sum = 2.6940\n",
            "output; 2022-06-06 09:06:45; Iter= 0-27; SRDQN= [16.11, 1.93, -0.00, -0.00]; sum = 18.0433; Rand= [8.56, 3.97, 9.08, 3.30]; sum = 24.9112; Strm= [3.05, 8.10, 23.32, 21.50]; sum = 55.9791; BS= [2.06, 0.03, -0.00, -0.00]; sum = 2.0869\n",
            "output; 2022-06-06 09:06:45; Iter= 0-28; SRDQN= [21.42, 1.76, -0.00, -0.00]; sum = 23.1882; Rand= [5.17, 16.86, 8.06, 4.38]; sum = 34.4786; Strm= [2.44, 5.34, 9.19, 12.17]; sum = 29.1471; BS= [2.75, -0.00, -0.00, -0.00]; sum = 2.7472\n",
            "output; 2022-06-06 09:06:46; Iter= 0-29; SRDQN= [16.20, 1.71, -0.00, -0.00]; sum = 17.9189; Rand= [11.32, 5.56, 8.30, 7.73]; sum = 32.9026; Strm= [2.89, 5.96, 11.59, 14.81]; sum = 35.2509; BS= [1.68, 0.01, -0.00, -0.00]; sum = 1.6898\n",
            "output; 2022-06-06 09:06:46; Iter= 0-30; SRDQN= [13.52, 1.28, -0.00, -0.00]; sum = 14.7992; Rand= [5.08, 3.70, 9.02, 6.20]; sum = 23.9948; Strm= [1.92, 3.82, 8.97, 12.01]; sum = 26.7222; BS= [1.89, 0.22, -0.00, -0.00]; sum = 2.1092\n",
            "output; 2022-06-06 09:06:46; Iter= 0-31; SRDQN= [16.87, 1.81, -0.00, -0.00]; sum = 18.6728; Rand= [12.05, -0.00, 0.76, 0.80]; sum = 13.6002; Strm= [2.91, 8.37, 20.53, 20.91]; sum = 52.7222; BS= [1.35, -0.00, -0.00, -0.00]; sum = 1.3500\n",
            "output; 2022-06-06 09:06:47; Iter= 0-32; SRDQN= [13.88, 0.87, -0.00, -0.00]; sum = 14.7418; Rand= [2.06, 9.73, 16.08, 13.68]; sum = 41.5487; Strm= [1.79, 3.20, 5.52, 7.61]; sum = 18.1202; BS= [1.66, -0.00, -0.00, -0.00]; sum = 1.6607\n",
            "output; 2022-06-06 09:06:47; Iter= 0-33; SRDQN= [18.90, 1.78, -0.00, -0.00]; sum = 20.6863; Rand= [5.03, 7.23, 4.70, 2.71]; sum = 19.6667; Strm= [2.23, 5.83, 11.15, 12.47]; sum = 31.6818; BS= [2.30, 0.01, -0.00, -0.00]; sum = 2.3101\n",
            "output; 2022-06-06 09:06:47; Iter= 0-34; SRDQN= [12.74, 2.02, -0.00, -0.00]; sum = 14.7648; Rand= [7.57, 3.31, 8.01, 10.13]; sum = 29.0116; Strm= [1.90, 3.49, 5.45, 7.91]; sum = 18.7432; BS= [1.57, 0.03, -0.00, -0.00]; sum = 1.6002\n",
            "output; 2022-06-06 09:06:47; Iter= 0-35; SRDQN= [19.50, 1.82, -0.00, -0.00]; sum = 21.3161; Rand= [4.89, 11.16, 4.63, 5.53]; sum = 26.2159; Strm= [2.11, 3.72, 8.42, 10.74]; sum = 24.9852; BS= [2.95, 0.25, -0.00, -0.00]; sum = 3.2033\n",
            "output; 2022-06-06 09:06:48; Iter= 0-36; SRDQN= [18.31, 2.00, -0.00, -0.00]; sum = 20.3120; Rand= [4.81, 13.13, 1.66, 0.19]; sum = 19.7905; Strm= [2.17, 3.77, 8.26, 10.43]; sum = 24.6323; BS= [1.99, 0.02, -0.00, -0.00]; sum = 2.0044\n",
            "output; 2022-06-06 09:06:48; Iter= 0-37; SRDQN= [11.95, 1.58, -0.00, -0.00]; sum = 13.5312; Rand= [10.65, 1.49, 8.83, 2.87]; sum = 23.8431; Strm= [2.89, 5.29, 13.17, 15.57]; sum = 36.9184; BS= [2.50, 0.25, -0.00, -0.00]; sum = 2.7533\n",
            "output; 2022-06-06 09:06:48; Iter= 0-38; SRDQN= [12.80, 1.77, -0.00, -0.00]; sum = 14.5730; Rand= [7.92, 7.26, 12.19, 13.18]; sum = 40.5449; Strm= [2.09, 4.91, 13.23, 16.89]; sum = 37.1202; BS= [1.96, 0.11, -0.00, -0.00]; sum = 2.0636\n",
            "output; 2022-06-06 09:06:48; Iter= 0-39; SRDQN= [16.12, 1.76, -0.00, -0.00]; sum = 17.8827; Rand= [13.10, 5.61, 4.77, 1.50]; sum = 24.9773; Strm= [2.39, 5.58, 12.62, 17.67]; sum = 38.2642; BS= [2.12, 0.00, -0.00, -0.00]; sum = 2.1242\n",
            "output; 2022-06-06 09:06:48; Iter= 0-40; SRDQN= [9.59, 1.98, -0.00, -0.00]; sum = 11.5650; Rand= [12.17, 17.15, 0.92, 14.16]; sum = 44.4047; Strm= [2.31, 5.89, 13.87, 14.83]; sum = 36.8909; BS= [2.50, 0.23, -0.00, -0.00]; sum = 2.7229\n",
            "output; 2022-06-06 09:06:48; Iter= 0-41; SRDQN= [15.66, 1.28, -0.00, -0.00]; sum = 16.9457; Rand= [5.04, 16.83, 8.80, 2.14]; sum = 32.8127; Strm= [2.09, 4.31, 8.14, 11.40]; sum = 25.9401; BS= [2.51, 0.02, -0.00, -0.00]; sum = 2.5300\n",
            "output; 2022-06-06 09:06:49; Iter= 0-42; SRDQN= [14.75, 1.71, -0.00, -0.00]; sum = 16.4659; Rand= [7.66, 1.58, 3.22, 11.65]; sum = 24.1199; Strm= [2.82, 8.12, 20.54, 20.91]; sum = 52.3791; BS= [2.41, 0.20, -0.00, -0.00]; sum = 2.6115\n",
            "output; 2022-06-06 09:06:49; Iter= 0-43; SRDQN= [17.00, 1.74, -0.00, -0.00]; sum = 18.7386; Rand= [5.46, 1.82, 15.52, 7.72]; sum = 30.5123; Strm= [2.19, 4.96, 11.88, 15.24]; sum = 34.2706; BS= [1.80, 0.02, -0.00, -0.00]; sum = 1.8197\n",
            "output; 2022-06-06 09:06:49; Iter= 0-44; SRDQN= [14.22, 1.83, -0.00, -0.00]; sum = 16.0522; Rand= [11.88, 17.49, 0.90, 2.78]; sum = 33.0542; Strm= [2.15, 5.50, 11.57, 12.78]; sum = 31.9950; BS= [2.10, 0.04, -0.00, -0.00]; sum = 2.1397\n",
            "output; 2022-06-06 09:06:49; Iter= 0-45; SRDQN= [14.02, 1.59, -0.00, -0.00]; sum = 15.6030; Rand= [8.01, 6.84, 10.39, 0.18]; sum = 25.4243; Strm= [2.87, 7.65, 17.35, 20.46]; sum = 48.3270; BS= [1.71, 0.03, -0.00, -0.00]; sum = 1.7392\n",
            "output; 2022-06-06 09:06:49; Iter= 0-46; SRDQN= [13.10, 1.92, -0.00, -0.00]; sum = 15.0187; Rand= [11.13, 4.83, 2.57, 5.54]; sum = 24.0731; Strm= [2.72, 5.71, 12.12, 15.69]; sum = 36.2444; BS= [1.84, 0.11, -0.00, -0.00]; sum = 1.9452\n",
            "output; 2022-06-06 09:06:49; Iter= 0-47; SRDQN= [15.17, 1.96, -0.00, -0.00]; sum = 17.1361; Rand= [10.04, -0.00, 4.11, 1.87]; sum = 16.0249; Strm= [2.36, 4.59, 8.10, 11.04]; sum = 26.0941; BS= [2.02, 0.14, -0.00, -0.00]; sum = 2.1631\n",
            "output; 2022-06-06 09:06:50; Iter= 0-48; SRDQN= [17.48, 2.06, -0.00, -0.00]; sum = 19.5397; Rand= [14.16, 3.23, 10.93, 2.21]; sum = 30.5375; Strm= [2.54, 6.62, 12.83, 18.09]; sum = 40.0676; BS= [2.43, 0.21, -0.00, -0.00]; sum = 2.6402\n",
            "output; 2022-06-06 09:06:50; Iter= 0-49; SRDQN= [19.47, 1.91, -0.00, -0.00]; sum = 21.3751; Rand= [3.66, 4.37, 7.68, 14.64]; sum = 30.3429; Strm= [2.42, 5.18, 10.61, 14.70]; sum = 32.9125; BS= [2.11, 0.01, -0.00, -0.00]; sum = 2.1217\n",
            "---------------------------------------------------------------------------------------\n",
            "SUMMARY; 2022-06-06 09:06:50; ITER= 0; SRDQN= [15.85, 1.70, 0.00, 0.00]; SUM = 17.5419; Rand= [8.91, 6.90, 6.09, 6.26]; SUM = 28.1566; STRM= [2.31, 5.08, 11.11, 13.89]; SUM = 32.3774; BS= [2.01, 0.06, 0.00, 0.00]; SUM = 2.0705\n",
            "=======================================================================================\n",
            "/content/drive/MyDrive/Colab Notebooks/Bear Game Project/SRDQN.py:313: VisibleDeprecationWarning: Creating an ndarray from ragged nested sequences (which is a list-or-tuple of lists-or-tuples-or ndarrays with different lengths or shapes) is deprecated. If you meant to do this, you must specify 'dtype=object' when creating the ndarray.\n",
            "  y_batch = reward_batch + (1-np.array(minibatch)[:,4])*self.config.gamma * np.max(QValue_batch, axis=1)\n",
            "network weights are saved\n",
            "output; 2022-06-06 09:07:52; Iter= 600-0; SRDQN= [27.33, 0.52, -0.00, -0.00]; sum = 27.8489; Rand= [3.31, 9.81, 5.09, 4.82]; sum = 23.0249; Strm= [2.08, 3.48, 7.31, 8.80]; sum = 21.6756; BS= [1.30, -0.00, -0.00, -0.00]; sum = 1.3022\n",
            "output; 2022-06-06 09:07:53; Iter= 600-1; SRDQN= [34.88, 0.32, -0.00, -0.00]; sum = 35.1999; Rand= [8.44, 2.18, 7.54, 2.89]; sum = 21.0461; Strm= [1.85, 2.83, 6.78, 7.11]; sum = 18.5620; BS= [1.77, 0.18, -0.00, -0.00]; sum = 1.9447\n",
            "output; 2022-06-06 09:07:53; Iter= 600-2; SRDQN= [29.79, 0.27, -0.00, -0.00]; sum = 30.0621; Rand= [9.60, 3.27, 5.81, 4.42]; sum = 23.1002; Strm= [2.78, 6.36, 16.10, 18.42]; sum = 43.6610; BS= [1.85, -0.00, -0.00, -0.00]; sum = 1.8455\n",
            "output; 2022-06-06 09:07:53; Iter= 600-3; SRDQN= [24.24, 0.51, -0.00, -0.00]; sum = 24.7483; Rand= [5.88, 6.48, 15.64, 7.56]; sum = 35.5637; Strm= [2.94, 7.28, 14.22, 16.25]; sum = 40.6797; BS= [2.71, 0.20, -0.00, -0.00]; sum = 2.9112\n",
            "output; 2022-06-06 09:07:53; Iter= 600-4; SRDQN= [32.39, 0.54, -0.00, -0.00]; sum = 32.9247; Rand= [11.06, 8.66, 0.03, 7.93]; sum = 27.6827; Strm= [2.65, 6.39, 16.10, 19.22]; sum = 44.3522; BS= [1.96, 0.12, -0.00, -0.00]; sum = 2.0775\n",
            "output; 2022-06-06 09:07:53; Iter= 600-5; SRDQN= [29.28, 0.46, -0.00, -0.00]; sum = 29.7317; Rand= [5.09, 6.59, 5.79, 3.51]; sum = 20.9819; Strm= [2.11, 4.76, 10.26, 16.54]; sum = 33.6645; BS= [1.82, -0.00, -0.00, -0.00]; sum = 1.8164\n",
            "output; 2022-06-06 09:07:53; Iter= 600-6; SRDQN= [23.48, 0.56, -0.00, -0.00]; sum = 24.0439; Rand= [10.75, 15.04, 6.78, 0.09]; sum = 32.6512; Strm= [1.68, 3.63, 8.06, 10.84]; sum = 24.2133; BS= [2.68, 0.01, -0.00, -0.00]; sum = 2.6807\n",
            "output; 2022-06-06 09:07:54; Iter= 600-7; SRDQN= [32.26, 0.74, -0.00, -0.00]; sum = 33.0038; Rand= [7.05, 5.73, 10.80, 1.55]; sum = 25.1379; Strm= [2.48, 5.65, 12.75, 17.57]; sum = 38.4584; BS= [2.49, 0.12, -0.00, -0.00]; sum = 2.6169\n",
            "output; 2022-06-06 09:07:54; Iter= 600-8; SRDQN= [28.35, 0.59, -0.00, -0.00]; sum = 28.9477; Rand= [9.88, 9.82, 2.64, 12.62]; sum = 34.9686; Strm= [1.66, 3.14, 6.51, 9.37]; sum = 20.6764; BS= [1.51, -0.00, -0.00, -0.00]; sum = 1.5072\n",
            "output; 2022-06-06 09:07:54; Iter= 600-9; SRDQN= [29.44, 0.52, -0.00, -0.00]; sum = 29.9611; Rand= [14.34, 9.74, 0.06, 3.28]; sum = 27.4205; Strm= [2.21, 4.91, 11.25, 14.77]; sum = 33.1328; BS= [1.13, -0.00, -0.00, -0.00]; sum = 1.1318\n",
            "output; 2022-06-06 09:07:54; Iter= 600-10; SRDQN= [27.02, 0.28, -0.00, -0.00]; sum = 27.3016; Rand= [5.33, 7.65, 9.92, 3.81]; sum = 26.7040; Strm= [2.07, 4.42, 9.16, 11.94]; sum = 27.5867; BS= [1.64, -0.00, -0.00, -0.00]; sum = 1.6372\n",
            "output; 2022-06-06 09:07:54; Iter= 600-11; SRDQN= [25.76, 0.14, -0.00, -0.00]; sum = 25.9009; Rand= [9.85, 4.14, 12.88, 7.10]; sum = 33.9583; Strm= [2.15, 5.05, 12.11, 15.90]; sum = 35.2170; BS= [1.92, 0.07, -0.00, -0.00]; sum = 1.9884\n",
            "output; 2022-06-06 09:07:54; Iter= 600-12; SRDQN= [23.75, 0.58, -0.00, -0.00]; sum = 24.3321; Rand= [4.30, 2.11, 12.17, 7.86]; sum = 26.4381; Strm= [2.09, 4.75, 7.25, 9.34]; sum = 23.4223; BS= [1.74, 0.05, -0.00, -0.00]; sum = 1.7863\n",
            "output; 2022-06-06 09:07:55; Iter= 600-13; SRDQN= [25.65, 0.24, -0.00, -0.00]; sum = 25.8875; Rand= [2.47, 5.13, 9.56, 2.89]; sum = 20.0490; Strm= [1.86, 4.36, 9.21, 13.04]; sum = 28.4714; BS= [2.05, 0.10, -0.00, -0.00]; sum = 2.1501\n",
            "output; 2022-06-06 09:07:55; Iter= 600-14; SRDQN= [30.57, -0.00, -0.00, -0.00]; sum = 30.5651; Rand= [7.55, 13.36, 3.98, 0.06]; sum = 24.9433; Strm= [2.25, 4.02, 6.42, 7.85]; sum = 20.5386; BS= [2.05, -0.00, -0.00, -0.00]; sum = 2.0455\n",
            "output; 2022-06-06 09:07:55; Iter= 600-15; SRDQN= [27.26, 0.63, -0.00, -0.00]; sum = 27.8938; Rand= [11.53, 4.20, 0.26, 2.38]; sum = 18.3651; Strm= [2.10, 4.72, 9.92, 11.44]; sum = 28.1831; BS= [2.08, -0.00, -0.00, -0.00]; sum = 2.0767\n",
            "output; 2022-06-06 09:07:55; Iter= 600-16; SRDQN= [29.41, 0.70, -0.00, -0.00]; sum = 30.1129; Rand= [14.54, 7.51, 5.49, 10.36]; sum = 37.9025; Strm= [2.18, 3.94, 5.60, 7.15]; sum = 18.8764; BS= [1.98, 0.02, -0.00, -0.00]; sum = 1.9963\n",
            "output; 2022-06-06 09:07:55; Iter= 600-17; SRDQN= [31.65, 0.44, -0.00, -0.00]; sum = 32.0853; Rand= [7.81, 14.18, 3.89, 3.78]; sum = 29.6489; Strm= [2.05, 3.85, 9.25, 10.97]; sum = 26.1151; BS= [1.82, 0.02, -0.00, -0.00]; sum = 1.8395\n",
            "output; 2022-06-06 09:07:55; Iter= 600-18; SRDQN= [24.49, 0.61, -0.00, -0.00]; sum = 25.1037; Rand= [13.21, 3.56, 4.05, 6.92]; sum = 27.7381; Strm= [1.71, 3.02, 5.72, 7.80]; sum = 18.2386; BS= [1.71, 0.01, -0.00, -0.00]; sum = 1.7238\n",
            "output; 2022-06-06 09:07:56; Iter= 600-19; SRDQN= [28.14, 0.10, -0.00, -0.00]; sum = 28.2424; Rand= [3.34, 16.06, 3.43, 8.37]; sum = 31.1979; Strm= [2.88, 8.50, 18.91, 24.44]; sum = 54.7339; BS= [1.92, -0.00, -0.00, -0.00]; sum = 1.9199\n",
            "output; 2022-06-06 09:07:56; Iter= 600-20; SRDQN= [29.89, 0.29, -0.00, -0.00]; sum = 30.1766; Rand= [6.44, 11.91, 4.42, 4.17]; sum = 26.9483; Strm= [2.87, 6.94, 16.16, 19.25]; sum = 45.2305; BS= [2.09, 0.02, -0.00, -0.00]; sum = 2.1134\n",
            "output; 2022-06-06 09:07:56; Iter= 600-21; SRDQN= [30.58, 0.69, -0.00, -0.00]; sum = 31.2709; Rand= [5.13, 10.63, 3.53, 3.52]; sum = 22.8070; Strm= [2.55, 5.45, 13.96, 20.46]; sum = 42.4299; BS= [1.95, 0.13, -0.00, -0.00]; sum = 2.0780\n",
            "output; 2022-06-06 09:07:56; Iter= 600-22; SRDQN= [29.23, 0.01, -0.00, -0.00]; sum = 29.2329; Rand= [11.47, 5.40, 4.66, 0.01]; sum = 21.5368; Strm= [2.08, 4.10, 8.98, 12.71]; sum = 27.8775; BS= [1.55, 0.03, -0.00, -0.00]; sum = 1.5838\n",
            "output; 2022-06-06 09:07:56; Iter= 600-23; SRDQN= [31.90, 0.28, -0.00, -0.00]; sum = 32.1821; Rand= [8.00, 8.22, 10.96, 14.80]; sum = 41.9822; Strm= [1.63, 2.41, 4.38, 6.65]; sum = 15.0703; BS= [1.44, -0.00, -0.00, -0.00]; sum = 1.4359\n",
            "output; 2022-06-06 09:07:57; Iter= 600-24; SRDQN= [29.48, 0.29, -0.00, -0.00]; sum = 29.7730; Rand= [4.53, 6.62, 5.82, 2.79]; sum = 19.7560; Strm= [2.69, 5.96, 11.46, 13.50]; sum = 33.6063; BS= [2.63, -0.00, -0.00, -0.00]; sum = 2.6262\n",
            "output; 2022-06-06 09:07:57; Iter= 600-25; SRDQN= [26.63, 0.16, -0.00, -0.00]; sum = 26.7902; Rand= [11.04, 6.96, 0.83, 10.24]; sum = 29.0662; Strm= [2.16, 4.10, 8.97, 13.58]; sum = 28.8057; BS= [1.80, 0.06, -0.00, -0.00]; sum = 1.8589\n",
            "output; 2022-06-06 09:07:57; Iter= 600-26; SRDQN= [28.14, 0.08, -0.00, -0.00]; sum = 28.2171; Rand= [3.55, 6.48, 7.80, 14.16]; sum = 31.9952; Strm= [2.30, 3.98, 10.15, 13.56]; sum = 29.9831; BS= [2.60, 0.10, -0.00, -0.00]; sum = 2.6940\n",
            "output; 2022-06-06 09:07:57; Iter= 600-27; SRDQN= [28.29, 0.08, -0.00, -0.00]; sum = 28.3625; Rand= [4.07, 15.78, 3.63, 0.36]; sum = 23.8376; Strm= [3.05, 8.10, 23.32, 21.50]; sum = 55.9791; BS= [2.06, 0.03, -0.00, -0.00]; sum = 2.0869\n",
            "output; 2022-06-06 09:07:57; Iter= 600-28; SRDQN= [28.41, 0.64, -0.00, -0.00]; sum = 29.0455; Rand= [2.88, 6.60, 12.26, 6.54]; sum = 28.2741; Strm= [2.44, 5.34, 9.19, 12.17]; sum = 29.1471; BS= [2.75, -0.00, -0.00, -0.00]; sum = 2.7472\n",
            "output; 2022-06-06 09:07:57; Iter= 600-29; SRDQN= [27.26, 0.28, -0.00, -0.00]; sum = 27.5374; Rand= [12.79, 4.96, 2.03, 4.82]; sum = 24.6071; Strm= [2.89, 5.96, 11.59, 14.81]; sum = 35.2509; BS= [1.68, 0.01, -0.00, -0.00]; sum = 1.6898\n",
            "output; 2022-06-06 09:07:58; Iter= 600-30; SRDQN= [23.22, 0.29, -0.00, -0.00]; sum = 23.5105; Rand= [10.13, 18.65, 1.99, 6.22]; sum = 36.9946; Strm= [1.92, 3.82, 8.97, 12.01]; sum = 26.7222; BS= [1.89, 0.22, -0.00, -0.00]; sum = 2.1092\n",
            "output; 2022-06-06 09:07:58; Iter= 600-31; SRDQN= [30.51, 0.19, -0.00, -0.00]; sum = 30.7034; Rand= [6.30, 12.52, 7.79, 2.44]; sum = 29.0471; Strm= [2.91, 8.37, 20.53, 20.91]; sum = 52.7222; BS= [1.35, -0.00, -0.00, -0.00]; sum = 1.3500\n",
            "output; 2022-06-06 09:07:58; Iter= 600-32; SRDQN= [30.79, 0.38, -0.00, -0.00]; sum = 31.1646; Rand= [11.94, 4.53, 1.05, 4.95]; sum = 22.4693; Strm= [1.79, 3.20, 5.52, 7.61]; sum = 18.1202; BS= [1.66, -0.00, -0.00, -0.00]; sum = 1.6607\n",
            "output; 2022-06-06 09:07:58; Iter= 600-33; SRDQN= [29.22, 0.63, -0.00, -0.00]; sum = 29.8490; Rand= [7.83, 0.61, 0.52, 0.30]; sum = 9.2610; Strm= [2.23, 5.83, 11.15, 12.47]; sum = 31.6818; BS= [2.30, 0.01, -0.00, -0.00]; sum = 2.3101\n",
            "output; 2022-06-06 09:07:58; Iter= 600-34; SRDQN= [29.67, 0.14, -0.00, -0.00]; sum = 29.8102; Rand= [7.18, 8.73, 4.17, 10.40]; sum = 30.4952; Strm= [1.90, 3.49, 5.45, 7.91]; sum = 18.7432; BS= [1.57, 0.03, -0.00, -0.00]; sum = 1.6002\n",
            "output; 2022-06-06 09:07:58; Iter= 600-35; SRDQN= [24.58, 0.41, -0.00, -0.00]; sum = 24.9911; Rand= [3.69, 4.14, 5.02, 12.50]; sum = 25.3450; Strm= [2.11, 3.72, 8.42, 10.74]; sum = 24.9852; BS= [2.95, 0.25, -0.00, -0.00]; sum = 3.2033\n",
            "output; 2022-06-06 09:07:58; Iter= 600-36; SRDQN= [30.58, 0.20, -0.00, -0.00]; sum = 30.7832; Rand= [8.58, 4.66, 7.45, 0.42]; sum = 21.1120; Strm= [2.17, 3.77, 8.26, 10.43]; sum = 24.6323; BS= [1.99, 0.02, -0.00, -0.00]; sum = 2.0044\n",
            "output; 2022-06-06 09:07:59; Iter= 600-37; SRDQN= [29.62, 0.07, -0.00, -0.00]; sum = 29.6835; Rand= [12.63, 11.95, 6.02, 4.78]; sum = 35.3789; Strm= [2.89, 5.29, 13.17, 15.57]; sum = 36.9184; BS= [2.50, 0.25, -0.00, -0.00]; sum = 2.7533\n",
            "output; 2022-06-06 09:07:59; Iter= 600-38; SRDQN= [34.36, 0.36, -0.00, -0.00]; sum = 34.7260; Rand= [9.15, 6.33, 7.32, 15.27]; sum = 38.0710; Strm= [2.09, 4.91, 13.23, 16.89]; sum = 37.1202; BS= [1.96, 0.11, -0.00, -0.00]; sum = 2.0636\n",
            "output; 2022-06-06 09:07:59; Iter= 600-39; SRDQN= [25.87, 0.65, -0.00, -0.00]; sum = 26.5187; Rand= [12.65, 5.01, 8.33, 12.62]; sum = 38.6096; Strm= [2.39, 5.58, 12.62, 17.67]; sum = 38.2642; BS= [2.12, 0.00, -0.00, -0.00]; sum = 2.1242\n",
            "output; 2022-06-06 09:07:59; Iter= 600-40; SRDQN= [33.70, 0.64, -0.00, -0.00]; sum = 34.3422; Rand= [12.44, 7.00, 5.40, 0.47]; sum = 25.3126; Strm= [2.31, 5.89, 13.87, 14.83]; sum = 36.8909; BS= [2.50, 0.23, -0.00, -0.00]; sum = 2.7229\n",
            "output; 2022-06-06 09:07:59; Iter= 600-41; SRDQN= [27.88, 0.54, -0.00, -0.00]; sum = 28.4149; Rand= [9.14, 4.62, 4.43, 0.11]; sum = 18.2970; Strm= [2.09, 4.31, 8.14, 11.40]; sum = 25.9401; BS= [2.51, 0.02, -0.00, -0.00]; sum = 2.5300\n",
            "output; 2022-06-06 09:07:59; Iter= 600-42; SRDQN= [32.45, 0.38, -0.00, -0.00]; sum = 32.8270; Rand= [13.08, 10.51, 3.19, 17.56]; sum = 44.3275; Strm= [2.82, 8.12, 20.54, 20.91]; sum = 52.3791; BS= [2.41, 0.20, -0.00, -0.00]; sum = 2.6115\n",
            "output; 2022-06-06 09:08:00; Iter= 600-43; SRDQN= [30.16, -0.00, -0.00, -0.00]; sum = 30.1553; Rand= [8.48, 5.81, 5.21, 2.92]; sum = 22.4252; Strm= [2.19, 4.96, 11.88, 15.24]; sum = 34.2706; BS= [1.80, 0.02, -0.00, -0.00]; sum = 1.8197\n",
            "output; 2022-06-06 09:08:00; Iter= 600-44; SRDQN= [31.02, 0.38, -0.00, -0.00]; sum = 31.4001; Rand= [10.98, 7.94, 7.71, 3.32]; sum = 29.9526; Strm= [2.15, 5.50, 11.57, 12.78]; sum = 31.9950; BS= [2.10, 0.04, -0.00, -0.00]; sum = 2.1397\n",
            "output; 2022-06-06 09:08:00; Iter= 600-45; SRDQN= [32.27, 0.03, -0.00, -0.00]; sum = 32.2981; Rand= [6.94, 5.27, 9.03, 6.62]; sum = 27.8601; Strm= [2.87, 7.65, 17.35, 20.46]; sum = 48.3270; BS= [1.71, 0.03, -0.00, -0.00]; sum = 1.7392\n",
            "output; 2022-06-06 09:08:00; Iter= 600-46; SRDQN= [28.62, 0.53, -0.00, -0.00]; sum = 29.1539; Rand= [8.03, 7.57, 15.01, 13.59]; sum = 44.1914; Strm= [2.72, 5.71, 12.12, 15.69]; sum = 36.2444; BS= [1.84, 0.11, -0.00, -0.00]; sum = 1.9452\n",
            "output; 2022-06-06 09:08:00; Iter= 600-47; SRDQN= [29.29, 0.01, -0.00, -0.00]; sum = 29.2999; Rand= [10.10, 16.43, 4.92, 6.55]; sum = 38.0022; Strm= [2.36, 4.59, 8.10, 11.04]; sum = 26.0941; BS= [2.02, 0.14, -0.00, -0.00]; sum = 2.1631\n",
            "output; 2022-06-06 09:08:00; Iter= 600-48; SRDQN= [33.14, 0.48, -0.00, -0.00]; sum = 33.6260; Rand= [11.55, 6.95, 5.38, 8.54]; sum = 32.4158; Strm= [2.54, 6.62, 12.83, 18.09]; sum = 40.0676; BS= [2.43, 0.21, -0.00, -0.00]; sum = 2.6402\n",
            "output; 2022-06-06 09:08:01; Iter= 600-49; SRDQN= [26.69, 0.28, -0.00, -0.00]; sum = 26.9717; Rand= [3.07, 13.42, 7.37, 12.02]; sum = 35.8702; Strm= [2.42, 5.18, 10.61, 14.70]; sum = 32.9125; BS= [2.11, 0.01, -0.00, -0.00]; sum = 2.1217\n",
            "---------------------------------------------------------------------------------------\n",
            "SUMMARY; 2022-06-06 09:08:01; ITER= 600; SRDQN= [28.97, 0.36, 0.00, 0.00]; SUM = 29.3343; Rand= [8.38, 8.03, 5.98, 6.10]; SUM = 28.4954; STRM= [2.31, 5.08, 11.11, 13.89]; SUM = 32.3774; BS= [2.01, 0.06, 0.00, 0.00]; SUM = 2.0705\n",
            "=======================================================================================\n",
            "output; 2022-06-06 09:08:01; Iter= 600-0; SRDQN= [27.33, 0.52, -0.00, -0.00]; sum = 27.8489; Rand= [5.08, 11.83, 0.75, 1.53]; sum = 19.1917; Strm= [2.08, 3.48, 7.31, 8.80]; sum = 21.6756; BS= [1.30, -0.00, -0.00, -0.00]; sum = 1.3022\n",
            "output; 2022-06-06 09:08:01; Iter= 600-1; SRDQN= [34.88, 0.32, -0.00, -0.00]; sum = 35.1999; Rand= [10.23, 17.83, 4.35, 0.01]; sum = 32.4204; Strm= [1.85, 2.83, 6.78, 7.11]; sum = 18.5620; BS= [1.77, 0.18, -0.00, -0.00]; sum = 1.9447\n",
            "output; 2022-06-06 09:08:01; Iter= 600-2; SRDQN= [29.79, 0.27, -0.00, -0.00]; sum = 30.0621; Rand= [12.46, 1.76, 2.91, 4.32]; sum = 21.4481; Strm= [2.78, 6.36, 16.10, 18.42]; sum = 43.6610; BS= [1.85, -0.00, -0.00, -0.00]; sum = 1.8455\n",
            "output; 2022-06-06 09:08:01; Iter= 600-3; SRDQN= [24.24, 0.51, -0.00, -0.00]; sum = 24.7483; Rand= [9.21, 3.07, 3.92, 5.00]; sum = 21.2004; Strm= [2.94, 7.28, 14.22, 16.25]; sum = 40.6797; BS= [2.71, 0.20, -0.00, -0.00]; sum = 2.9112\n",
            "output; 2022-06-06 09:08:01; Iter= 600-4; SRDQN= [32.39, 0.54, -0.00, -0.00]; sum = 32.9247; Rand= [9.57, 5.17, 1.20, 5.43]; sum = 21.3754; Strm= [2.65, 6.39, 16.10, 19.22]; sum = 44.3522; BS= [1.96, 0.12, -0.00, -0.00]; sum = 2.0775\n",
            "output; 2022-06-06 09:08:02; Iter= 600-5; SRDQN= [29.28, 0.46, -0.00, -0.00]; sum = 29.7317; Rand= [10.02, 6.38, 1.78, 11.11]; sum = 29.2958; Strm= [2.11, 4.76, 10.26, 16.54]; sum = 33.6645; BS= [1.82, -0.00, -0.00, -0.00]; sum = 1.8164\n",
            "output; 2022-06-06 09:08:02; Iter= 600-6; SRDQN= [23.48, 0.56, -0.00, -0.00]; sum = 24.0439; Rand= [9.67, 11.36, 1.14, 7.58]; sum = 29.7587; Strm= [1.68, 3.63, 8.06, 10.84]; sum = 24.2133; BS= [2.68, 0.01, -0.00, -0.00]; sum = 2.6807\n"
          ]
        }
      ]
    },
    {
      "cell_type": "code",
      "source": [
        "driveG='drive/MyDrive/Colab Notebooks/Bear Game Project/'\n",
        "driveG=driveG+'123'\n",
        "print(driveG)"
      ],
      "metadata": {
        "colab": {
          "base_uri": "https://localhost:8080/"
        },
        "id": "cewy5IdUvmv6",
        "outputId": "674b30e9-d45b-47b0-ab50-7eebcaa49098"
      },
      "execution_count": null,
      "outputs": [
        {
          "output_type": "stream",
          "name": "stdout",
          "text": [
            "drive/MyDrive/Colab Notebooks/Bear Game Project/123\n"
          ]
        }
      ]
    },
    {
      "cell_type": "code",
      "source": [
        "!pip install numpyencoder\n",
        "import numpyencoder"
      ],
      "metadata": {
        "colab": {
          "base_uri": "https://localhost:8080/"
        },
        "id": "To5DCun2pjk6",
        "outputId": "03f1df19-f8cd-4638-ceec-a6fe256642fb"
      },
      "execution_count": 6,
      "outputs": [
        {
          "output_type": "stream",
          "name": "stdout",
          "text": [
            "Looking in indexes: https://pypi.org/simple, https://us-python.pkg.dev/colab-wheels/public/simple/\n",
            "Collecting numpyencoder\n",
            "  Downloading numpyencoder-0.3.0-py3-none-any.whl (3.0 kB)\n",
            "Requirement already satisfied: numpy>=1.14.3 in /usr/local/lib/python3.7/dist-packages (from numpyencoder) (1.21.6)\n",
            "Installing collected packages: numpyencoder\n",
            "Successfully installed numpyencoder-0.3.0\n"
          ]
        }
      ]
    },
    {
      "cell_type": "code",
      "source": [
        "print(config.maxEpisodesTrain)"
      ],
      "metadata": {
        "colab": {
          "base_uri": "https://localhost:8080/",
          "height": 165
        },
        "id": "jc0vJGUn2npq",
        "outputId": "2574151b-c63b-4a64-f2be-a0baa0698665"
      },
      "execution_count": null,
      "outputs": [
        {
          "output_type": "error",
          "ename": "NameError",
          "evalue": "ignored",
          "traceback": [
            "\u001b[0;31m---------------------------------------------------------------------------\u001b[0m",
            "\u001b[0;31mNameError\u001b[0m                                 Traceback (most recent call last)",
            "\u001b[0;32m<ipython-input-45-a51ec2a0dcd1>\u001b[0m in \u001b[0;36m<module>\u001b[0;34m()\u001b[0m\n\u001b[0;32m----> 1\u001b[0;31m \u001b[0mprint\u001b[0m\u001b[0;34m(\u001b[0m\u001b[0mconfig\u001b[0m\u001b[0;34m.\u001b[0m\u001b[0mmaxEpisodesTrain\u001b[0m\u001b[0;34m)\u001b[0m\u001b[0;34m\u001b[0m\u001b[0;34m\u001b[0m\u001b[0m\n\u001b[0m",
            "\u001b[0;31mNameError\u001b[0m: name 'config' is not defined"
          ]
        }
      ]
    },
    {
      "cell_type": "code",
      "source": [
        "import matplotlib.pyplot as plt\n",
        "%matplotlib notebook \n",
        "%matplotlib inlin\n"
      ],
      "metadata": {
        "id": "MeXJG0soJzfS"
      },
      "execution_count": 22,
      "outputs": []
    }
  ]
}